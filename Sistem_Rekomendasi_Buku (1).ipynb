{
  "nbformat": 4,
  "nbformat_minor": 0,
  "metadata": {
    "colab": {
      "provenance": []
    },
    "kernelspec": {
      "name": "python3",
      "display_name": "Python 3"
    },
    "language_info": {
      "name": "python"
    }
  },
  "cells": [
    {
      "cell_type": "markdown",
      "source": [
        "# Proyek Pertama (Predictive Analytics):\n",
        "- **Nama:** Ch Angga Marceclio\n",
        "- **Email:** chmarcel0603@gmail.com\n",
        "- **ID Dicoding:** MC315D5Y1131"
      ],
      "metadata": {
        "id": "Pav8wFWOs2c7"
      }
    },
    {
      "cell_type": "markdown",
      "source": [
        "## 1. Project Overview"
      ],
      "metadata": {
        "id": "N-R_cjUi-s1v"
      }
    },
    {
      "cell_type": "markdown",
      "source": [
        "### Latar Belakang:\n",
        "\n",
        "Industri penerbitan buku terus berkembang, dan dengan jutaan buku yang tersedia,\n",
        "menemukan bacaan yang sesuai selera individu menjadi tantangan tersendiri bagi pembaca. Di sisi lain, penerbit dan penulis juga kesulitan menjangkau audiens yang tepat. Sistem rekomendasi buku hadir sebagai solusi untuk menjembatani kesenjangan ini, membantu pengguna menemukan buku baru yang relevan dan meningkatkan pengalaman membaca mereka."
      ],
      "metadata": {
        "id": "EKO79bpt-zAt"
      }
    },
    {
      "cell_type": "markdown",
      "source": [
        "### Mengapa Proyek Ini Penting:\n",
        "\n",
        "Proyek ini bertujuan untuk membangun sistem rekomendasi buku yang mampu mempersonalisasi pengalaman pengguna. Dengan merekomendasikan buku berdasarkan preferensi dan riwayat rating pengguna, sistem ini dapat:\n",
        "- Meningkatkan kepuasan pengguna dengan menyajikan rekomendasi yang relevan.\n",
        "- Memperluas eksplorasi pengguna terhadap genre dan penulis baru.\n",
        "- Berpotensi meningkatkan penjualan buku dan keterlibatan pembaca di platform."
      ],
      "metadata": {
        "id": "AskHFory_Ahd"
      }
    },
    {
      "cell_type": "markdown",
      "source": [
        "## 2. Business Understanding"
      ],
      "metadata": {
        "id": "f9pw0Rxk54SY"
      }
    },
    {
      "cell_type": "markdown",
      "source": [
        "### Problem Statements:\n",
        "1. Pengguna seringkali kesulitan menemukan buku yang sesuai dengan minat mereka dari jutaan pilihan yang tersedia.\n",
        "2. Kurangnya personalisasi dalam penemuan buku dapat menyebabkan pengguna merasa overwhelmed atau melewatkan buku-buku potensial yang akan mereka sukai."
      ],
      "metadata": {
        "id": "xJNT7PR459Zg"
      }
    },
    {
      "cell_type": "markdown",
      "source": [
        "### Goals:\n",
        "1. Membangun sistem rekomendasi buku yang efektif dan efisien.\n",
        "2. Memberikan rekomendasi buku yang relevan dan personal kepada pengguna berdasarkan riwayat rating dan preferensi mereka."
      ],
      "metadata": {
        "id": "PnNxoSVf_zf4"
      }
    },
    {
      "cell_type": "markdown",
      "source": [
        "### Solution Approach:\n",
        "Untuk mencapai tujuan ini, kami akan menggunakan pendekatan **Collaborative Filtering**. Pendekatan ini dipilih karena dataset yang tersedia memiliki data rating eksplisit dari pengguna terhadap buku, yang sangat ideal untuk melatih model collaborative filtering. Model ini akan belajar pola preferensi dari interaksi pengguna-item (rating) dan merekomendasikan buku berdasarkan kesamaan preferensi antar pengguna atau kesamaan karakteristik rating antar buku."
      ],
      "metadata": {
        "id": "1IRvNmN0_1KL"
      }
    },
    {
      "cell_type": "markdown",
      "source": [
        "### **Import Library**"
      ],
      "metadata": {
        "id": "eMfTmy0Ws40q"
      }
    },
    {
      "cell_type": "code",
      "execution_count": null,
      "metadata": {
        "id": "FoBwNz-3hdO2"
      },
      "outputs": [],
      "source": [
        "# Standard Libraries\n",
        "import re\n",
        "import string\n",
        "from io import StringIO\n",
        "import csv\n",
        "import pickle\n",
        "import joblib\n",
        "import requests\n",
        "\n",
        "# Utilities\n",
        "from tqdm import tqdm\n",
        "from google.colab import drive\n",
        "\n",
        "# Data Processing\n",
        "import numpy as np\n",
        "import pandas as pd\n",
        "\n",
        "# Visualization\n",
        "import matplotlib.pyplot as plt\n",
        "import seaborn as sns\n",
        "from wordcloud import WordCloud\n",
        "\n",
        "# Machine Learning\n",
        "from sklearn.feature_extraction.text import TfidfVectorizer, CountVectorizer\n",
        "from sklearn.ensemble import RandomForestClassifier\n",
        "from sklearn.svm import SVC\n",
        "from sklearn.metrics import accuracy_score, confusion_matrix, classification_report\n",
        "from sklearn.model_selection import train_test_split\n",
        "from sklearn.preprocessing import LabelEncoder\n",
        "from sklearn.pipeline import Pipeline\n",
        "\n",
        "# Deep Learning\n",
        "import tensorflow as tf\n",
        "from tensorflow.keras.models import Sequential\n",
        "from tensorflow.keras.layers import (\n",
        "    Embedding, LSTM, GRU, Conv1D, GlobalMaxPooling1D, Dense, Dropout,\n",
        "    BatchNormalization, Input, Dot, Flatten\n",
        ")\n",
        "from tensorflow.keras.optimizers import Adam\n",
        "from tensorflow.keras.regularizers import l2\n",
        "from tensorflow.keras.preprocessing.text import Tokenizer\n",
        "from tensorflow.keras.preprocessing.sequence import pad_sequences\n",
        "from tensorflow.keras.utils import to_categorical\n",
        "from tensorflow.keras.callbacks import EarlyStopping\n",
        "from tensorflow.keras.models import Model\n"
      ]
    },
    {
      "cell_type": "markdown",
      "source": [
        "## 3. Data Understanding"
      ],
      "metadata": {
        "id": "-RhqTGXGBNqY"
      }
    },
    {
      "cell_type": "markdown",
      "source": [
        "Tahap ini bertujuan untuk memahami struktur, karakteristik, dan kualitas data yang akan digunakan. Dimana akan memuat dataset dan melakukan analisis deskriptif serta eksplorasi data awal.\n"
      ],
      "metadata": {
        "id": "NkCtfCHcBRyD"
      }
    },
    {
      "cell_type": "markdown",
      "source": [
        "### 3.1. Mount Google Drive & Load Dataset"
      ],
      "metadata": {
        "id": "ZhK6XqdeIley"
      }
    },
    {
      "cell_type": "code",
      "source": [
        "from google.colab import drive\n",
        "drive.mount('/content/drive')"
      ],
      "metadata": {
        "colab": {
          "base_uri": "https://localhost:8080/"
        },
        "id": "ARzKxAgbthC_",
        "outputId": "cb03bfe8-7ce0-42ff-95d3-4edf646d418d"
      },
      "execution_count": null,
      "outputs": [
        {
          "output_type": "stream",
          "name": "stdout",
          "text": [
            "Mounted at /content/drive\n"
          ]
        }
      ]
    },
    {
      "cell_type": "code",
      "source": [
        "base_path = '/content/drive/MyDrive/Colab Notebooks/buku/'\n",
        "\n",
        "df_books = pd.read_csv(f'{base_path}Books.csv')\n",
        "df_users = pd.read_csv(f'{base_path}Users.csv')\n",
        "df_ratings = pd.read_csv(f'{base_path}Ratings.csv')"
      ],
      "metadata": {
        "colab": {
          "base_uri": "https://localhost:8080/"
        },
        "id": "dErAYiJ8uEv4",
        "outputId": "84b831dd-db5e-4eca-b521-37484a8153c7"
      },
      "execution_count": null,
      "outputs": [
        {
          "output_type": "stream",
          "name": "stderr",
          "text": [
            "<ipython-input-3-508913f384b4>:3: DtypeWarning: Columns (3) have mixed types. Specify dtype option on import or set low_memory=False.\n",
            "  df_books = pd.read_csv(f'{base_path}Books.csv')\n"
          ]
        }
      ]
    },
    {
      "cell_type": "markdown",
      "source": [
        "### 3.2. Eksplorasi Data Analysis"
      ],
      "metadata": {
        "id": "25xX_4CrIr72"
      }
    },
    {
      "cell_type": "code",
      "source": [
        "df_books.head()"
      ],
      "metadata": {
        "colab": {
          "base_uri": "https://localhost:8080/",
          "height": 293
        },
        "id": "b9Mb25tcthXW",
        "outputId": "78db1601-1795-4ed7-f065-7afe80c4a286"
      },
      "execution_count": null,
      "outputs": [
        {
          "output_type": "execute_result",
          "data": {
            "text/plain": [
              "         ISBN                                         Book-Title  \\\n",
              "0  0195153448                                Classical Mythology   \n",
              "1  0002005018                                       Clara Callan   \n",
              "2  0060973129                               Decision in Normandy   \n",
              "3  0374157065  Flu: The Story of the Great Influenza Pandemic...   \n",
              "4  0393045218                             The Mummies of Urumchi   \n",
              "\n",
              "            Book-Author Year-Of-Publication                   Publisher  \\\n",
              "0    Mark P. O. Morford                2002     Oxford University Press   \n",
              "1  Richard Bruce Wright                2001       HarperFlamingo Canada   \n",
              "2          Carlo D'Este                1991             HarperPerennial   \n",
              "3      Gina Bari Kolata                1999        Farrar Straus Giroux   \n",
              "4       E. J. W. Barber                1999  W. W. Norton &amp; Company   \n",
              "\n",
              "                                         Image-URL-S  \\\n",
              "0  http://images.amazon.com/images/P/0195153448.0...   \n",
              "1  http://images.amazon.com/images/P/0002005018.0...   \n",
              "2  http://images.amazon.com/images/P/0060973129.0...   \n",
              "3  http://images.amazon.com/images/P/0374157065.0...   \n",
              "4  http://images.amazon.com/images/P/0393045218.0...   \n",
              "\n",
              "                                         Image-URL-M  \\\n",
              "0  http://images.amazon.com/images/P/0195153448.0...   \n",
              "1  http://images.amazon.com/images/P/0002005018.0...   \n",
              "2  http://images.amazon.com/images/P/0060973129.0...   \n",
              "3  http://images.amazon.com/images/P/0374157065.0...   \n",
              "4  http://images.amazon.com/images/P/0393045218.0...   \n",
              "\n",
              "                                         Image-URL-L  \n",
              "0  http://images.amazon.com/images/P/0195153448.0...  \n",
              "1  http://images.amazon.com/images/P/0002005018.0...  \n",
              "2  http://images.amazon.com/images/P/0060973129.0...  \n",
              "3  http://images.amazon.com/images/P/0374157065.0...  \n",
              "4  http://images.amazon.com/images/P/0393045218.0...  "
            ],
            "text/html": [
              "\n",
              "  <div id=\"df-eb16c4bb-4504-44a2-8df3-561a3b389fa1\" class=\"colab-df-container\">\n",
              "    <div>\n",
              "<style scoped>\n",
              "    .dataframe tbody tr th:only-of-type {\n",
              "        vertical-align: middle;\n",
              "    }\n",
              "\n",
              "    .dataframe tbody tr th {\n",
              "        vertical-align: top;\n",
              "    }\n",
              "\n",
              "    .dataframe thead th {\n",
              "        text-align: right;\n",
              "    }\n",
              "</style>\n",
              "<table border=\"1\" class=\"dataframe\">\n",
              "  <thead>\n",
              "    <tr style=\"text-align: right;\">\n",
              "      <th></th>\n",
              "      <th>ISBN</th>\n",
              "      <th>Book-Title</th>\n",
              "      <th>Book-Author</th>\n",
              "      <th>Year-Of-Publication</th>\n",
              "      <th>Publisher</th>\n",
              "      <th>Image-URL-S</th>\n",
              "      <th>Image-URL-M</th>\n",
              "      <th>Image-URL-L</th>\n",
              "    </tr>\n",
              "  </thead>\n",
              "  <tbody>\n",
              "    <tr>\n",
              "      <th>0</th>\n",
              "      <td>0195153448</td>\n",
              "      <td>Classical Mythology</td>\n",
              "      <td>Mark P. O. Morford</td>\n",
              "      <td>2002</td>\n",
              "      <td>Oxford University Press</td>\n",
              "      <td>http://images.amazon.com/images/P/0195153448.0...</td>\n",
              "      <td>http://images.amazon.com/images/P/0195153448.0...</td>\n",
              "      <td>http://images.amazon.com/images/P/0195153448.0...</td>\n",
              "    </tr>\n",
              "    <tr>\n",
              "      <th>1</th>\n",
              "      <td>0002005018</td>\n",
              "      <td>Clara Callan</td>\n",
              "      <td>Richard Bruce Wright</td>\n",
              "      <td>2001</td>\n",
              "      <td>HarperFlamingo Canada</td>\n",
              "      <td>http://images.amazon.com/images/P/0002005018.0...</td>\n",
              "      <td>http://images.amazon.com/images/P/0002005018.0...</td>\n",
              "      <td>http://images.amazon.com/images/P/0002005018.0...</td>\n",
              "    </tr>\n",
              "    <tr>\n",
              "      <th>2</th>\n",
              "      <td>0060973129</td>\n",
              "      <td>Decision in Normandy</td>\n",
              "      <td>Carlo D'Este</td>\n",
              "      <td>1991</td>\n",
              "      <td>HarperPerennial</td>\n",
              "      <td>http://images.amazon.com/images/P/0060973129.0...</td>\n",
              "      <td>http://images.amazon.com/images/P/0060973129.0...</td>\n",
              "      <td>http://images.amazon.com/images/P/0060973129.0...</td>\n",
              "    </tr>\n",
              "    <tr>\n",
              "      <th>3</th>\n",
              "      <td>0374157065</td>\n",
              "      <td>Flu: The Story of the Great Influenza Pandemic...</td>\n",
              "      <td>Gina Bari Kolata</td>\n",
              "      <td>1999</td>\n",
              "      <td>Farrar Straus Giroux</td>\n",
              "      <td>http://images.amazon.com/images/P/0374157065.0...</td>\n",
              "      <td>http://images.amazon.com/images/P/0374157065.0...</td>\n",
              "      <td>http://images.amazon.com/images/P/0374157065.0...</td>\n",
              "    </tr>\n",
              "    <tr>\n",
              "      <th>4</th>\n",
              "      <td>0393045218</td>\n",
              "      <td>The Mummies of Urumchi</td>\n",
              "      <td>E. J. W. Barber</td>\n",
              "      <td>1999</td>\n",
              "      <td>W. W. Norton &amp;amp; Company</td>\n",
              "      <td>http://images.amazon.com/images/P/0393045218.0...</td>\n",
              "      <td>http://images.amazon.com/images/P/0393045218.0...</td>\n",
              "      <td>http://images.amazon.com/images/P/0393045218.0...</td>\n",
              "    </tr>\n",
              "  </tbody>\n",
              "</table>\n",
              "</div>\n",
              "    <div class=\"colab-df-buttons\">\n",
              "\n",
              "  <div class=\"colab-df-container\">\n",
              "    <button class=\"colab-df-convert\" onclick=\"convertToInteractive('df-eb16c4bb-4504-44a2-8df3-561a3b389fa1')\"\n",
              "            title=\"Convert this dataframe to an interactive table.\"\n",
              "            style=\"display:none;\">\n",
              "\n",
              "  <svg xmlns=\"http://www.w3.org/2000/svg\" height=\"24px\" viewBox=\"0 -960 960 960\">\n",
              "    <path d=\"M120-120v-720h720v720H120Zm60-500h600v-160H180v160Zm220 220h160v-160H400v160Zm0 220h160v-160H400v160ZM180-400h160v-160H180v160Zm440 0h160v-160H620v160ZM180-180h160v-160H180v160Zm440 0h160v-160H620v160Z\"/>\n",
              "  </svg>\n",
              "    </button>\n",
              "\n",
              "  <style>\n",
              "    .colab-df-container {\n",
              "      display:flex;\n",
              "      gap: 12px;\n",
              "    }\n",
              "\n",
              "    .colab-df-convert {\n",
              "      background-color: #E8F0FE;\n",
              "      border: none;\n",
              "      border-radius: 50%;\n",
              "      cursor: pointer;\n",
              "      display: none;\n",
              "      fill: #1967D2;\n",
              "      height: 32px;\n",
              "      padding: 0 0 0 0;\n",
              "      width: 32px;\n",
              "    }\n",
              "\n",
              "    .colab-df-convert:hover {\n",
              "      background-color: #E2EBFA;\n",
              "      box-shadow: 0px 1px 2px rgba(60, 64, 67, 0.3), 0px 1px 3px 1px rgba(60, 64, 67, 0.15);\n",
              "      fill: #174EA6;\n",
              "    }\n",
              "\n",
              "    .colab-df-buttons div {\n",
              "      margin-bottom: 4px;\n",
              "    }\n",
              "\n",
              "    [theme=dark] .colab-df-convert {\n",
              "      background-color: #3B4455;\n",
              "      fill: #D2E3FC;\n",
              "    }\n",
              "\n",
              "    [theme=dark] .colab-df-convert:hover {\n",
              "      background-color: #434B5C;\n",
              "      box-shadow: 0px 1px 3px 1px rgba(0, 0, 0, 0.15);\n",
              "      filter: drop-shadow(0px 1px 2px rgba(0, 0, 0, 0.3));\n",
              "      fill: #FFFFFF;\n",
              "    }\n",
              "  </style>\n",
              "\n",
              "    <script>\n",
              "      const buttonEl =\n",
              "        document.querySelector('#df-eb16c4bb-4504-44a2-8df3-561a3b389fa1 button.colab-df-convert');\n",
              "      buttonEl.style.display =\n",
              "        google.colab.kernel.accessAllowed ? 'block' : 'none';\n",
              "\n",
              "      async function convertToInteractive(key) {\n",
              "        const element = document.querySelector('#df-eb16c4bb-4504-44a2-8df3-561a3b389fa1');\n",
              "        const dataTable =\n",
              "          await google.colab.kernel.invokeFunction('convertToInteractive',\n",
              "                                                    [key], {});\n",
              "        if (!dataTable) return;\n",
              "\n",
              "        const docLinkHtml = 'Like what you see? Visit the ' +\n",
              "          '<a target=\"_blank\" href=https://colab.research.google.com/notebooks/data_table.ipynb>data table notebook</a>'\n",
              "          + ' to learn more about interactive tables.';\n",
              "        element.innerHTML = '';\n",
              "        dataTable['output_type'] = 'display_data';\n",
              "        await google.colab.output.renderOutput(dataTable, element);\n",
              "        const docLink = document.createElement('div');\n",
              "        docLink.innerHTML = docLinkHtml;\n",
              "        element.appendChild(docLink);\n",
              "      }\n",
              "    </script>\n",
              "  </div>\n",
              "\n",
              "\n",
              "    <div id=\"df-668d6ebd-0f4d-4ba7-b0fa-1fcfaef634b5\">\n",
              "      <button class=\"colab-df-quickchart\" onclick=\"quickchart('df-668d6ebd-0f4d-4ba7-b0fa-1fcfaef634b5')\"\n",
              "                title=\"Suggest charts\"\n",
              "                style=\"display:none;\">\n",
              "\n",
              "<svg xmlns=\"http://www.w3.org/2000/svg\" height=\"24px\"viewBox=\"0 0 24 24\"\n",
              "     width=\"24px\">\n",
              "    <g>\n",
              "        <path d=\"M19 3H5c-1.1 0-2 .9-2 2v14c0 1.1.9 2 2 2h14c1.1 0 2-.9 2-2V5c0-1.1-.9-2-2-2zM9 17H7v-7h2v7zm4 0h-2V7h2v10zm4 0h-2v-4h2v4z\"/>\n",
              "    </g>\n",
              "</svg>\n",
              "      </button>\n",
              "\n",
              "<style>\n",
              "  .colab-df-quickchart {\n",
              "      --bg-color: #E8F0FE;\n",
              "      --fill-color: #1967D2;\n",
              "      --hover-bg-color: #E2EBFA;\n",
              "      --hover-fill-color: #174EA6;\n",
              "      --disabled-fill-color: #AAA;\n",
              "      --disabled-bg-color: #DDD;\n",
              "  }\n",
              "\n",
              "  [theme=dark] .colab-df-quickchart {\n",
              "      --bg-color: #3B4455;\n",
              "      --fill-color: #D2E3FC;\n",
              "      --hover-bg-color: #434B5C;\n",
              "      --hover-fill-color: #FFFFFF;\n",
              "      --disabled-bg-color: #3B4455;\n",
              "      --disabled-fill-color: #666;\n",
              "  }\n",
              "\n",
              "  .colab-df-quickchart {\n",
              "    background-color: var(--bg-color);\n",
              "    border: none;\n",
              "    border-radius: 50%;\n",
              "    cursor: pointer;\n",
              "    display: none;\n",
              "    fill: var(--fill-color);\n",
              "    height: 32px;\n",
              "    padding: 0;\n",
              "    width: 32px;\n",
              "  }\n",
              "\n",
              "  .colab-df-quickchart:hover {\n",
              "    background-color: var(--hover-bg-color);\n",
              "    box-shadow: 0 1px 2px rgba(60, 64, 67, 0.3), 0 1px 3px 1px rgba(60, 64, 67, 0.15);\n",
              "    fill: var(--button-hover-fill-color);\n",
              "  }\n",
              "\n",
              "  .colab-df-quickchart-complete:disabled,\n",
              "  .colab-df-quickchart-complete:disabled:hover {\n",
              "    background-color: var(--disabled-bg-color);\n",
              "    fill: var(--disabled-fill-color);\n",
              "    box-shadow: none;\n",
              "  }\n",
              "\n",
              "  .colab-df-spinner {\n",
              "    border: 2px solid var(--fill-color);\n",
              "    border-color: transparent;\n",
              "    border-bottom-color: var(--fill-color);\n",
              "    animation:\n",
              "      spin 1s steps(1) infinite;\n",
              "  }\n",
              "\n",
              "  @keyframes spin {\n",
              "    0% {\n",
              "      border-color: transparent;\n",
              "      border-bottom-color: var(--fill-color);\n",
              "      border-left-color: var(--fill-color);\n",
              "    }\n",
              "    20% {\n",
              "      border-color: transparent;\n",
              "      border-left-color: var(--fill-color);\n",
              "      border-top-color: var(--fill-color);\n",
              "    }\n",
              "    30% {\n",
              "      border-color: transparent;\n",
              "      border-left-color: var(--fill-color);\n",
              "      border-top-color: var(--fill-color);\n",
              "      border-right-color: var(--fill-color);\n",
              "    }\n",
              "    40% {\n",
              "      border-color: transparent;\n",
              "      border-right-color: var(--fill-color);\n",
              "      border-top-color: var(--fill-color);\n",
              "    }\n",
              "    60% {\n",
              "      border-color: transparent;\n",
              "      border-right-color: var(--fill-color);\n",
              "    }\n",
              "    80% {\n",
              "      border-color: transparent;\n",
              "      border-right-color: var(--fill-color);\n",
              "      border-bottom-color: var(--fill-color);\n",
              "    }\n",
              "    90% {\n",
              "      border-color: transparent;\n",
              "      border-bottom-color: var(--fill-color);\n",
              "    }\n",
              "  }\n",
              "</style>\n",
              "\n",
              "      <script>\n",
              "        async function quickchart(key) {\n",
              "          const quickchartButtonEl =\n",
              "            document.querySelector('#' + key + ' button');\n",
              "          quickchartButtonEl.disabled = true;  // To prevent multiple clicks.\n",
              "          quickchartButtonEl.classList.add('colab-df-spinner');\n",
              "          try {\n",
              "            const charts = await google.colab.kernel.invokeFunction(\n",
              "                'suggestCharts', [key], {});\n",
              "          } catch (error) {\n",
              "            console.error('Error during call to suggestCharts:', error);\n",
              "          }\n",
              "          quickchartButtonEl.classList.remove('colab-df-spinner');\n",
              "          quickchartButtonEl.classList.add('colab-df-quickchart-complete');\n",
              "        }\n",
              "        (() => {\n",
              "          let quickchartButtonEl =\n",
              "            document.querySelector('#df-668d6ebd-0f4d-4ba7-b0fa-1fcfaef634b5 button');\n",
              "          quickchartButtonEl.style.display =\n",
              "            google.colab.kernel.accessAllowed ? 'block' : 'none';\n",
              "        })();\n",
              "      </script>\n",
              "    </div>\n",
              "\n",
              "    </div>\n",
              "  </div>\n"
            ],
            "application/vnd.google.colaboratory.intrinsic+json": {
              "type": "dataframe",
              "variable_name": "df_books"
            }
          },
          "metadata": {},
          "execution_count": 4
        }
      ]
    },
    {
      "cell_type": "code",
      "source": [
        "df_users.head()"
      ],
      "metadata": {
        "colab": {
          "base_uri": "https://localhost:8080/",
          "height": 206
        },
        "id": "iU9N4gwrulO8",
        "outputId": "806a82b0-2a76-4f98-c8bd-1e08c8652522"
      },
      "execution_count": null,
      "outputs": [
        {
          "output_type": "execute_result",
          "data": {
            "text/plain": [
              "   User-ID                            Location   Age\n",
              "0        1                  nyc, new york, usa   NaN\n",
              "1        2           stockton, california, usa  18.0\n",
              "2        3     moscow, yukon territory, russia   NaN\n",
              "3        4           porto, v.n.gaia, portugal  17.0\n",
              "4        5  farnborough, hants, united kingdom   NaN"
            ],
            "text/html": [
              "\n",
              "  <div id=\"df-c1ab2823-cfdf-4d64-9d2d-9fabbfda4b98\" class=\"colab-df-container\">\n",
              "    <div>\n",
              "<style scoped>\n",
              "    .dataframe tbody tr th:only-of-type {\n",
              "        vertical-align: middle;\n",
              "    }\n",
              "\n",
              "    .dataframe tbody tr th {\n",
              "        vertical-align: top;\n",
              "    }\n",
              "\n",
              "    .dataframe thead th {\n",
              "        text-align: right;\n",
              "    }\n",
              "</style>\n",
              "<table border=\"1\" class=\"dataframe\">\n",
              "  <thead>\n",
              "    <tr style=\"text-align: right;\">\n",
              "      <th></th>\n",
              "      <th>User-ID</th>\n",
              "      <th>Location</th>\n",
              "      <th>Age</th>\n",
              "    </tr>\n",
              "  </thead>\n",
              "  <tbody>\n",
              "    <tr>\n",
              "      <th>0</th>\n",
              "      <td>1</td>\n",
              "      <td>nyc, new york, usa</td>\n",
              "      <td>NaN</td>\n",
              "    </tr>\n",
              "    <tr>\n",
              "      <th>1</th>\n",
              "      <td>2</td>\n",
              "      <td>stockton, california, usa</td>\n",
              "      <td>18.0</td>\n",
              "    </tr>\n",
              "    <tr>\n",
              "      <th>2</th>\n",
              "      <td>3</td>\n",
              "      <td>moscow, yukon territory, russia</td>\n",
              "      <td>NaN</td>\n",
              "    </tr>\n",
              "    <tr>\n",
              "      <th>3</th>\n",
              "      <td>4</td>\n",
              "      <td>porto, v.n.gaia, portugal</td>\n",
              "      <td>17.0</td>\n",
              "    </tr>\n",
              "    <tr>\n",
              "      <th>4</th>\n",
              "      <td>5</td>\n",
              "      <td>farnborough, hants, united kingdom</td>\n",
              "      <td>NaN</td>\n",
              "    </tr>\n",
              "  </tbody>\n",
              "</table>\n",
              "</div>\n",
              "    <div class=\"colab-df-buttons\">\n",
              "\n",
              "  <div class=\"colab-df-container\">\n",
              "    <button class=\"colab-df-convert\" onclick=\"convertToInteractive('df-c1ab2823-cfdf-4d64-9d2d-9fabbfda4b98')\"\n",
              "            title=\"Convert this dataframe to an interactive table.\"\n",
              "            style=\"display:none;\">\n",
              "\n",
              "  <svg xmlns=\"http://www.w3.org/2000/svg\" height=\"24px\" viewBox=\"0 -960 960 960\">\n",
              "    <path d=\"M120-120v-720h720v720H120Zm60-500h600v-160H180v160Zm220 220h160v-160H400v160Zm0 220h160v-160H400v160ZM180-400h160v-160H180v160Zm440 0h160v-160H620v160ZM180-180h160v-160H180v160Zm440 0h160v-160H620v160Z\"/>\n",
              "  </svg>\n",
              "    </button>\n",
              "\n",
              "  <style>\n",
              "    .colab-df-container {\n",
              "      display:flex;\n",
              "      gap: 12px;\n",
              "    }\n",
              "\n",
              "    .colab-df-convert {\n",
              "      background-color: #E8F0FE;\n",
              "      border: none;\n",
              "      border-radius: 50%;\n",
              "      cursor: pointer;\n",
              "      display: none;\n",
              "      fill: #1967D2;\n",
              "      height: 32px;\n",
              "      padding: 0 0 0 0;\n",
              "      width: 32px;\n",
              "    }\n",
              "\n",
              "    .colab-df-convert:hover {\n",
              "      background-color: #E2EBFA;\n",
              "      box-shadow: 0px 1px 2px rgba(60, 64, 67, 0.3), 0px 1px 3px 1px rgba(60, 64, 67, 0.15);\n",
              "      fill: #174EA6;\n",
              "    }\n",
              "\n",
              "    .colab-df-buttons div {\n",
              "      margin-bottom: 4px;\n",
              "    }\n",
              "\n",
              "    [theme=dark] .colab-df-convert {\n",
              "      background-color: #3B4455;\n",
              "      fill: #D2E3FC;\n",
              "    }\n",
              "\n",
              "    [theme=dark] .colab-df-convert:hover {\n",
              "      background-color: #434B5C;\n",
              "      box-shadow: 0px 1px 3px 1px rgba(0, 0, 0, 0.15);\n",
              "      filter: drop-shadow(0px 1px 2px rgba(0, 0, 0, 0.3));\n",
              "      fill: #FFFFFF;\n",
              "    }\n",
              "  </style>\n",
              "\n",
              "    <script>\n",
              "      const buttonEl =\n",
              "        document.querySelector('#df-c1ab2823-cfdf-4d64-9d2d-9fabbfda4b98 button.colab-df-convert');\n",
              "      buttonEl.style.display =\n",
              "        google.colab.kernel.accessAllowed ? 'block' : 'none';\n",
              "\n",
              "      async function convertToInteractive(key) {\n",
              "        const element = document.querySelector('#df-c1ab2823-cfdf-4d64-9d2d-9fabbfda4b98');\n",
              "        const dataTable =\n",
              "          await google.colab.kernel.invokeFunction('convertToInteractive',\n",
              "                                                    [key], {});\n",
              "        if (!dataTable) return;\n",
              "\n",
              "        const docLinkHtml = 'Like what you see? Visit the ' +\n",
              "          '<a target=\"_blank\" href=https://colab.research.google.com/notebooks/data_table.ipynb>data table notebook</a>'\n",
              "          + ' to learn more about interactive tables.';\n",
              "        element.innerHTML = '';\n",
              "        dataTable['output_type'] = 'display_data';\n",
              "        await google.colab.output.renderOutput(dataTable, element);\n",
              "        const docLink = document.createElement('div');\n",
              "        docLink.innerHTML = docLinkHtml;\n",
              "        element.appendChild(docLink);\n",
              "      }\n",
              "    </script>\n",
              "  </div>\n",
              "\n",
              "\n",
              "    <div id=\"df-959ed54b-ea16-4799-af2b-d3973f781f26\">\n",
              "      <button class=\"colab-df-quickchart\" onclick=\"quickchart('df-959ed54b-ea16-4799-af2b-d3973f781f26')\"\n",
              "                title=\"Suggest charts\"\n",
              "                style=\"display:none;\">\n",
              "\n",
              "<svg xmlns=\"http://www.w3.org/2000/svg\" height=\"24px\"viewBox=\"0 0 24 24\"\n",
              "     width=\"24px\">\n",
              "    <g>\n",
              "        <path d=\"M19 3H5c-1.1 0-2 .9-2 2v14c0 1.1.9 2 2 2h14c1.1 0 2-.9 2-2V5c0-1.1-.9-2-2-2zM9 17H7v-7h2v7zm4 0h-2V7h2v10zm4 0h-2v-4h2v4z\"/>\n",
              "    </g>\n",
              "</svg>\n",
              "      </button>\n",
              "\n",
              "<style>\n",
              "  .colab-df-quickchart {\n",
              "      --bg-color: #E8F0FE;\n",
              "      --fill-color: #1967D2;\n",
              "      --hover-bg-color: #E2EBFA;\n",
              "      --hover-fill-color: #174EA6;\n",
              "      --disabled-fill-color: #AAA;\n",
              "      --disabled-bg-color: #DDD;\n",
              "  }\n",
              "\n",
              "  [theme=dark] .colab-df-quickchart {\n",
              "      --bg-color: #3B4455;\n",
              "      --fill-color: #D2E3FC;\n",
              "      --hover-bg-color: #434B5C;\n",
              "      --hover-fill-color: #FFFFFF;\n",
              "      --disabled-bg-color: #3B4455;\n",
              "      --disabled-fill-color: #666;\n",
              "  }\n",
              "\n",
              "  .colab-df-quickchart {\n",
              "    background-color: var(--bg-color);\n",
              "    border: none;\n",
              "    border-radius: 50%;\n",
              "    cursor: pointer;\n",
              "    display: none;\n",
              "    fill: var(--fill-color);\n",
              "    height: 32px;\n",
              "    padding: 0;\n",
              "    width: 32px;\n",
              "  }\n",
              "\n",
              "  .colab-df-quickchart:hover {\n",
              "    background-color: var(--hover-bg-color);\n",
              "    box-shadow: 0 1px 2px rgba(60, 64, 67, 0.3), 0 1px 3px 1px rgba(60, 64, 67, 0.15);\n",
              "    fill: var(--button-hover-fill-color);\n",
              "  }\n",
              "\n",
              "  .colab-df-quickchart-complete:disabled,\n",
              "  .colab-df-quickchart-complete:disabled:hover {\n",
              "    background-color: var(--disabled-bg-color);\n",
              "    fill: var(--disabled-fill-color);\n",
              "    box-shadow: none;\n",
              "  }\n",
              "\n",
              "  .colab-df-spinner {\n",
              "    border: 2px solid var(--fill-color);\n",
              "    border-color: transparent;\n",
              "    border-bottom-color: var(--fill-color);\n",
              "    animation:\n",
              "      spin 1s steps(1) infinite;\n",
              "  }\n",
              "\n",
              "  @keyframes spin {\n",
              "    0% {\n",
              "      border-color: transparent;\n",
              "      border-bottom-color: var(--fill-color);\n",
              "      border-left-color: var(--fill-color);\n",
              "    }\n",
              "    20% {\n",
              "      border-color: transparent;\n",
              "      border-left-color: var(--fill-color);\n",
              "      border-top-color: var(--fill-color);\n",
              "    }\n",
              "    30% {\n",
              "      border-color: transparent;\n",
              "      border-left-color: var(--fill-color);\n",
              "      border-top-color: var(--fill-color);\n",
              "      border-right-color: var(--fill-color);\n",
              "    }\n",
              "    40% {\n",
              "      border-color: transparent;\n",
              "      border-right-color: var(--fill-color);\n",
              "      border-top-color: var(--fill-color);\n",
              "    }\n",
              "    60% {\n",
              "      border-color: transparent;\n",
              "      border-right-color: var(--fill-color);\n",
              "    }\n",
              "    80% {\n",
              "      border-color: transparent;\n",
              "      border-right-color: var(--fill-color);\n",
              "      border-bottom-color: var(--fill-color);\n",
              "    }\n",
              "    90% {\n",
              "      border-color: transparent;\n",
              "      border-bottom-color: var(--fill-color);\n",
              "    }\n",
              "  }\n",
              "</style>\n",
              "\n",
              "      <script>\n",
              "        async function quickchart(key) {\n",
              "          const quickchartButtonEl =\n",
              "            document.querySelector('#' + key + ' button');\n",
              "          quickchartButtonEl.disabled = true;  // To prevent multiple clicks.\n",
              "          quickchartButtonEl.classList.add('colab-df-spinner');\n",
              "          try {\n",
              "            const charts = await google.colab.kernel.invokeFunction(\n",
              "                'suggestCharts', [key], {});\n",
              "          } catch (error) {\n",
              "            console.error('Error during call to suggestCharts:', error);\n",
              "          }\n",
              "          quickchartButtonEl.classList.remove('colab-df-spinner');\n",
              "          quickchartButtonEl.classList.add('colab-df-quickchart-complete');\n",
              "        }\n",
              "        (() => {\n",
              "          let quickchartButtonEl =\n",
              "            document.querySelector('#df-959ed54b-ea16-4799-af2b-d3973f781f26 button');\n",
              "          quickchartButtonEl.style.display =\n",
              "            google.colab.kernel.accessAllowed ? 'block' : 'none';\n",
              "        })();\n",
              "      </script>\n",
              "    </div>\n",
              "\n",
              "    </div>\n",
              "  </div>\n"
            ],
            "application/vnd.google.colaboratory.intrinsic+json": {
              "type": "dataframe",
              "variable_name": "df_users"
            }
          },
          "metadata": {},
          "execution_count": 5
        }
      ]
    },
    {
      "cell_type": "code",
      "source": [
        "df_ratings.head()"
      ],
      "metadata": {
        "colab": {
          "base_uri": "https://localhost:8080/",
          "height": 206
        },
        "id": "pcEhRhOcun-O",
        "outputId": "25322ed5-0436-4e53-94d7-0c1c62fecc1b"
      },
      "execution_count": null,
      "outputs": [
        {
          "output_type": "execute_result",
          "data": {
            "text/plain": [
              "   User-ID        ISBN  Book-Rating\n",
              "0   276725  034545104X            0\n",
              "1   276726  0155061224            5\n",
              "2   276727  0446520802            0\n",
              "3   276729  052165615X            3\n",
              "4   276729  0521795028            6"
            ],
            "text/html": [
              "\n",
              "  <div id=\"df-34131fe8-2e4c-4f66-a593-29ec81634143\" class=\"colab-df-container\">\n",
              "    <div>\n",
              "<style scoped>\n",
              "    .dataframe tbody tr th:only-of-type {\n",
              "        vertical-align: middle;\n",
              "    }\n",
              "\n",
              "    .dataframe tbody tr th {\n",
              "        vertical-align: top;\n",
              "    }\n",
              "\n",
              "    .dataframe thead th {\n",
              "        text-align: right;\n",
              "    }\n",
              "</style>\n",
              "<table border=\"1\" class=\"dataframe\">\n",
              "  <thead>\n",
              "    <tr style=\"text-align: right;\">\n",
              "      <th></th>\n",
              "      <th>User-ID</th>\n",
              "      <th>ISBN</th>\n",
              "      <th>Book-Rating</th>\n",
              "    </tr>\n",
              "  </thead>\n",
              "  <tbody>\n",
              "    <tr>\n",
              "      <th>0</th>\n",
              "      <td>276725</td>\n",
              "      <td>034545104X</td>\n",
              "      <td>0</td>\n",
              "    </tr>\n",
              "    <tr>\n",
              "      <th>1</th>\n",
              "      <td>276726</td>\n",
              "      <td>0155061224</td>\n",
              "      <td>5</td>\n",
              "    </tr>\n",
              "    <tr>\n",
              "      <th>2</th>\n",
              "      <td>276727</td>\n",
              "      <td>0446520802</td>\n",
              "      <td>0</td>\n",
              "    </tr>\n",
              "    <tr>\n",
              "      <th>3</th>\n",
              "      <td>276729</td>\n",
              "      <td>052165615X</td>\n",
              "      <td>3</td>\n",
              "    </tr>\n",
              "    <tr>\n",
              "      <th>4</th>\n",
              "      <td>276729</td>\n",
              "      <td>0521795028</td>\n",
              "      <td>6</td>\n",
              "    </tr>\n",
              "  </tbody>\n",
              "</table>\n",
              "</div>\n",
              "    <div class=\"colab-df-buttons\">\n",
              "\n",
              "  <div class=\"colab-df-container\">\n",
              "    <button class=\"colab-df-convert\" onclick=\"convertToInteractive('df-34131fe8-2e4c-4f66-a593-29ec81634143')\"\n",
              "            title=\"Convert this dataframe to an interactive table.\"\n",
              "            style=\"display:none;\">\n",
              "\n",
              "  <svg xmlns=\"http://www.w3.org/2000/svg\" height=\"24px\" viewBox=\"0 -960 960 960\">\n",
              "    <path d=\"M120-120v-720h720v720H120Zm60-500h600v-160H180v160Zm220 220h160v-160H400v160Zm0 220h160v-160H400v160ZM180-400h160v-160H180v160Zm440 0h160v-160H620v160ZM180-180h160v-160H180v160Zm440 0h160v-160H620v160Z\"/>\n",
              "  </svg>\n",
              "    </button>\n",
              "\n",
              "  <style>\n",
              "    .colab-df-container {\n",
              "      display:flex;\n",
              "      gap: 12px;\n",
              "    }\n",
              "\n",
              "    .colab-df-convert {\n",
              "      background-color: #E8F0FE;\n",
              "      border: none;\n",
              "      border-radius: 50%;\n",
              "      cursor: pointer;\n",
              "      display: none;\n",
              "      fill: #1967D2;\n",
              "      height: 32px;\n",
              "      padding: 0 0 0 0;\n",
              "      width: 32px;\n",
              "    }\n",
              "\n",
              "    .colab-df-convert:hover {\n",
              "      background-color: #E2EBFA;\n",
              "      box-shadow: 0px 1px 2px rgba(60, 64, 67, 0.3), 0px 1px 3px 1px rgba(60, 64, 67, 0.15);\n",
              "      fill: #174EA6;\n",
              "    }\n",
              "\n",
              "    .colab-df-buttons div {\n",
              "      margin-bottom: 4px;\n",
              "    }\n",
              "\n",
              "    [theme=dark] .colab-df-convert {\n",
              "      background-color: #3B4455;\n",
              "      fill: #D2E3FC;\n",
              "    }\n",
              "\n",
              "    [theme=dark] .colab-df-convert:hover {\n",
              "      background-color: #434B5C;\n",
              "      box-shadow: 0px 1px 3px 1px rgba(0, 0, 0, 0.15);\n",
              "      filter: drop-shadow(0px 1px 2px rgba(0, 0, 0, 0.3));\n",
              "      fill: #FFFFFF;\n",
              "    }\n",
              "  </style>\n",
              "\n",
              "    <script>\n",
              "      const buttonEl =\n",
              "        document.querySelector('#df-34131fe8-2e4c-4f66-a593-29ec81634143 button.colab-df-convert');\n",
              "      buttonEl.style.display =\n",
              "        google.colab.kernel.accessAllowed ? 'block' : 'none';\n",
              "\n",
              "      async function convertToInteractive(key) {\n",
              "        const element = document.querySelector('#df-34131fe8-2e4c-4f66-a593-29ec81634143');\n",
              "        const dataTable =\n",
              "          await google.colab.kernel.invokeFunction('convertToInteractive',\n",
              "                                                    [key], {});\n",
              "        if (!dataTable) return;\n",
              "\n",
              "        const docLinkHtml = 'Like what you see? Visit the ' +\n",
              "          '<a target=\"_blank\" href=https://colab.research.google.com/notebooks/data_table.ipynb>data table notebook</a>'\n",
              "          + ' to learn more about interactive tables.';\n",
              "        element.innerHTML = '';\n",
              "        dataTable['output_type'] = 'display_data';\n",
              "        await google.colab.output.renderOutput(dataTable, element);\n",
              "        const docLink = document.createElement('div');\n",
              "        docLink.innerHTML = docLinkHtml;\n",
              "        element.appendChild(docLink);\n",
              "      }\n",
              "    </script>\n",
              "  </div>\n",
              "\n",
              "\n",
              "    <div id=\"df-5c5e5dbd-6072-434e-8b0c-422094833036\">\n",
              "      <button class=\"colab-df-quickchart\" onclick=\"quickchart('df-5c5e5dbd-6072-434e-8b0c-422094833036')\"\n",
              "                title=\"Suggest charts\"\n",
              "                style=\"display:none;\">\n",
              "\n",
              "<svg xmlns=\"http://www.w3.org/2000/svg\" height=\"24px\"viewBox=\"0 0 24 24\"\n",
              "     width=\"24px\">\n",
              "    <g>\n",
              "        <path d=\"M19 3H5c-1.1 0-2 .9-2 2v14c0 1.1.9 2 2 2h14c1.1 0 2-.9 2-2V5c0-1.1-.9-2-2-2zM9 17H7v-7h2v7zm4 0h-2V7h2v10zm4 0h-2v-4h2v4z\"/>\n",
              "    </g>\n",
              "</svg>\n",
              "      </button>\n",
              "\n",
              "<style>\n",
              "  .colab-df-quickchart {\n",
              "      --bg-color: #E8F0FE;\n",
              "      --fill-color: #1967D2;\n",
              "      --hover-bg-color: #E2EBFA;\n",
              "      --hover-fill-color: #174EA6;\n",
              "      --disabled-fill-color: #AAA;\n",
              "      --disabled-bg-color: #DDD;\n",
              "  }\n",
              "\n",
              "  [theme=dark] .colab-df-quickchart {\n",
              "      --bg-color: #3B4455;\n",
              "      --fill-color: #D2E3FC;\n",
              "      --hover-bg-color: #434B5C;\n",
              "      --hover-fill-color: #FFFFFF;\n",
              "      --disabled-bg-color: #3B4455;\n",
              "      --disabled-fill-color: #666;\n",
              "  }\n",
              "\n",
              "  .colab-df-quickchart {\n",
              "    background-color: var(--bg-color);\n",
              "    border: none;\n",
              "    border-radius: 50%;\n",
              "    cursor: pointer;\n",
              "    display: none;\n",
              "    fill: var(--fill-color);\n",
              "    height: 32px;\n",
              "    padding: 0;\n",
              "    width: 32px;\n",
              "  }\n",
              "\n",
              "  .colab-df-quickchart:hover {\n",
              "    background-color: var(--hover-bg-color);\n",
              "    box-shadow: 0 1px 2px rgba(60, 64, 67, 0.3), 0 1px 3px 1px rgba(60, 64, 67, 0.15);\n",
              "    fill: var(--button-hover-fill-color);\n",
              "  }\n",
              "\n",
              "  .colab-df-quickchart-complete:disabled,\n",
              "  .colab-df-quickchart-complete:disabled:hover {\n",
              "    background-color: var(--disabled-bg-color);\n",
              "    fill: var(--disabled-fill-color);\n",
              "    box-shadow: none;\n",
              "  }\n",
              "\n",
              "  .colab-df-spinner {\n",
              "    border: 2px solid var(--fill-color);\n",
              "    border-color: transparent;\n",
              "    border-bottom-color: var(--fill-color);\n",
              "    animation:\n",
              "      spin 1s steps(1) infinite;\n",
              "  }\n",
              "\n",
              "  @keyframes spin {\n",
              "    0% {\n",
              "      border-color: transparent;\n",
              "      border-bottom-color: var(--fill-color);\n",
              "      border-left-color: var(--fill-color);\n",
              "    }\n",
              "    20% {\n",
              "      border-color: transparent;\n",
              "      border-left-color: var(--fill-color);\n",
              "      border-top-color: var(--fill-color);\n",
              "    }\n",
              "    30% {\n",
              "      border-color: transparent;\n",
              "      border-left-color: var(--fill-color);\n",
              "      border-top-color: var(--fill-color);\n",
              "      border-right-color: var(--fill-color);\n",
              "    }\n",
              "    40% {\n",
              "      border-color: transparent;\n",
              "      border-right-color: var(--fill-color);\n",
              "      border-top-color: var(--fill-color);\n",
              "    }\n",
              "    60% {\n",
              "      border-color: transparent;\n",
              "      border-right-color: var(--fill-color);\n",
              "    }\n",
              "    80% {\n",
              "      border-color: transparent;\n",
              "      border-right-color: var(--fill-color);\n",
              "      border-bottom-color: var(--fill-color);\n",
              "    }\n",
              "    90% {\n",
              "      border-color: transparent;\n",
              "      border-bottom-color: var(--fill-color);\n",
              "    }\n",
              "  }\n",
              "</style>\n",
              "\n",
              "      <script>\n",
              "        async function quickchart(key) {\n",
              "          const quickchartButtonEl =\n",
              "            document.querySelector('#' + key + ' button');\n",
              "          quickchartButtonEl.disabled = true;  // To prevent multiple clicks.\n",
              "          quickchartButtonEl.classList.add('colab-df-spinner');\n",
              "          try {\n",
              "            const charts = await google.colab.kernel.invokeFunction(\n",
              "                'suggestCharts', [key], {});\n",
              "          } catch (error) {\n",
              "            console.error('Error during call to suggestCharts:', error);\n",
              "          }\n",
              "          quickchartButtonEl.classList.remove('colab-df-spinner');\n",
              "          quickchartButtonEl.classList.add('colab-df-quickchart-complete');\n",
              "        }\n",
              "        (() => {\n",
              "          let quickchartButtonEl =\n",
              "            document.querySelector('#df-5c5e5dbd-6072-434e-8b0c-422094833036 button');\n",
              "          quickchartButtonEl.style.display =\n",
              "            google.colab.kernel.accessAllowed ? 'block' : 'none';\n",
              "        })();\n",
              "      </script>\n",
              "    </div>\n",
              "\n",
              "    </div>\n",
              "  </div>\n"
            ],
            "application/vnd.google.colaboratory.intrinsic+json": {
              "type": "dataframe",
              "variable_name": "df_ratings"
            }
          },
          "metadata": {},
          "execution_count": 6
        }
      ]
    },
    {
      "cell_type": "markdown",
      "source": [
        "### 3.3. Analisis Deskriptif dan Statistik Penting"
      ],
      "metadata": {
        "id": "iI-wgu2OebXH"
      }
    },
    {
      "cell_type": "code",
      "source": [
        "print(\"Info df_books\")\n",
        "df_books.info()\n",
        "print(\"\\nInfo df_users\")\n",
        "df_users.info()\n",
        "print(\"\\nInfo df_ratings\")\n",
        "df_ratings.info()"
      ],
      "metadata": {
        "colab": {
          "base_uri": "https://localhost:8080/"
        },
        "id": "23Fjkqjm5gwx",
        "outputId": "2b891e60-bbaf-473c-86d2-f9d927fd002f"
      },
      "execution_count": null,
      "outputs": [
        {
          "output_type": "stream",
          "name": "stdout",
          "text": [
            "Info df_books\n",
            "<class 'pandas.core.frame.DataFrame'>\n",
            "RangeIndex: 271360 entries, 0 to 271359\n",
            "Data columns (total 8 columns):\n",
            " #   Column               Non-Null Count   Dtype \n",
            "---  ------               --------------   ----- \n",
            " 0   ISBN                 271360 non-null  object\n",
            " 1   Book-Title           271360 non-null  object\n",
            " 2   Book-Author          271358 non-null  object\n",
            " 3   Year-Of-Publication  271360 non-null  object\n",
            " 4   Publisher            271358 non-null  object\n",
            " 5   Image-URL-S          271360 non-null  object\n",
            " 6   Image-URL-M          271360 non-null  object\n",
            " 7   Image-URL-L          271357 non-null  object\n",
            "dtypes: object(8)\n",
            "memory usage: 16.6+ MB\n",
            "\n",
            "Info df_users\n",
            "<class 'pandas.core.frame.DataFrame'>\n",
            "RangeIndex: 278858 entries, 0 to 278857\n",
            "Data columns (total 3 columns):\n",
            " #   Column    Non-Null Count   Dtype  \n",
            "---  ------    --------------   -----  \n",
            " 0   User-ID   278858 non-null  int64  \n",
            " 1   Location  278858 non-null  object \n",
            " 2   Age       168096 non-null  float64\n",
            "dtypes: float64(1), int64(1), object(1)\n",
            "memory usage: 6.4+ MB\n",
            "\n",
            "Info df_ratings\n",
            "<class 'pandas.core.frame.DataFrame'>\n",
            "RangeIndex: 1149780 entries, 0 to 1149779\n",
            "Data columns (total 3 columns):\n",
            " #   Column       Non-Null Count    Dtype \n",
            "---  ------       --------------    ----- \n",
            " 0   User-ID      1149780 non-null  int64 \n",
            " 1   ISBN         1149780 non-null  object\n",
            " 2   Book-Rating  1149780 non-null  int64 \n",
            "dtypes: int64(2), object(1)\n",
            "memory usage: 26.3+ MB\n"
          ]
        }
      ]
    },
    {
      "cell_type": "code",
      "source": [
        "print(\"\\nDescribe df_books\")\n",
        "print(df_books.describe(include='all'))\n",
        "print(\"\\nDescribe df_users\")\n",
        "print(df_users.describe(include='all'))\n",
        "print(\"\\nDescribe df_ratings\")\n",
        "print(df_ratings.describe(include='all'))"
      ],
      "metadata": {
        "colab": {
          "base_uri": "https://localhost:8080/"
        },
        "id": "3sFzEtTh6CkY",
        "outputId": "54c5c3cb-5393-4434-ab51-9104c0299eab"
      },
      "execution_count": null,
      "outputs": [
        {
          "output_type": "stream",
          "name": "stdout",
          "text": [
            "\n",
            "Describe df_books\n",
            "              ISBN      Book-Title      Book-Author  Year-Of-Publication  \\\n",
            "count       271360          271360           271358               271360   \n",
            "unique      271360          242135           102022                  202   \n",
            "top     020130998X  Selected Poems  Agatha Christie                 2002   \n",
            "freq             1              27              632                13903   \n",
            "\n",
            "        Publisher                                        Image-URL-S  \\\n",
            "count      271358                                             271360   \n",
            "unique      16807                                             271044   \n",
            "top     Harlequin  http://images.amazon.com/images/P/042509474X.0...   \n",
            "freq         7535                                                  2   \n",
            "\n",
            "                                              Image-URL-M  \\\n",
            "count                                              271360   \n",
            "unique                                             271044   \n",
            "top     http://images.amazon.com/images/P/042509474X.0...   \n",
            "freq                                                    2   \n",
            "\n",
            "                                              Image-URL-L  \n",
            "count                                              271357  \n",
            "unique                                             271041  \n",
            "top     http://images.amazon.com/images/P/006091985X.0...  \n",
            "freq                                                    2  \n",
            "\n",
            "Describe df_users\n",
            "             User-ID                         Location            Age\n",
            "count   278858.00000                           278858  168096.000000\n",
            "unique           NaN                            57339            NaN\n",
            "top              NaN  london, england, united kingdom            NaN\n",
            "freq             NaN                             2506            NaN\n",
            "mean    139429.50000                              NaN      34.751434\n",
            "std      80499.51502                              NaN      14.428097\n",
            "min          1.00000                              NaN       0.000000\n",
            "25%      69715.25000                              NaN      24.000000\n",
            "50%     139429.50000                              NaN      32.000000\n",
            "75%     209143.75000                              NaN      44.000000\n",
            "max     278858.00000                              NaN     244.000000\n",
            "\n",
            "Describe df_ratings\n",
            "             User-ID        ISBN   Book-Rating\n",
            "count   1.149780e+06     1149780  1.149780e+06\n",
            "unique           NaN      340556           NaN\n",
            "top              NaN  0971880107           NaN\n",
            "freq             NaN        2502           NaN\n",
            "mean    1.403864e+05         NaN  2.866950e+00\n",
            "std     8.056228e+04         NaN  3.854184e+00\n",
            "min     2.000000e+00         NaN  0.000000e+00\n",
            "25%     7.034500e+04         NaN  0.000000e+00\n",
            "50%     1.410100e+05         NaN  0.000000e+00\n",
            "75%     2.110280e+05         NaN  7.000000e+00\n",
            "max     2.788540e+05         NaN  1.000000e+01\n"
          ]
        }
      ]
    },
    {
      "cell_type": "code",
      "source": [
        "print(\"\\nJumlah buku unik:\", df_books['Book-Title'].nunique())\n",
        "print(\"Jumlah penulis unik:\", df_books['Book-Author'].nunique())\n",
        "print(\"Jumlah penerbit unik:\", df_books['Publisher'].nunique())\n",
        "print(\"\\nTop 10 Penulis:\")\n",
        "print(df_books['Book-Author'].value_counts().head(10))\n",
        "print(\"\\nTop 10 Penerbit:\")\n",
        "print(df_books['Publisher'].value_counts().head(10))"
      ],
      "metadata": {
        "colab": {
          "base_uri": "https://localhost:8080/"
        },
        "id": "gtZJ0RaI6TeM",
        "outputId": "7b895242-cfe9-4a47-9ad0-613727c3a3d1"
      },
      "execution_count": null,
      "outputs": [
        {
          "output_type": "stream",
          "name": "stdout",
          "text": [
            "\n",
            "Jumlah buku unik: 242135\n",
            "Jumlah penulis unik: 102022\n",
            "Jumlah penerbit unik: 16807\n",
            "\n",
            "Top 10 Penulis:\n",
            "Book-Author\n",
            "Agatha Christie        632\n",
            "William Shakespeare    567\n",
            "Stephen King           524\n",
            "Ann M. Martin          423\n",
            "Carolyn Keene          373\n",
            "Francine Pascal        372\n",
            "Isaac Asimov           330\n",
            "Nora Roberts           315\n",
            "Barbara Cartland       307\n",
            "Charles Dickens        302\n",
            "Name: count, dtype: int64\n",
            "\n",
            "Top 10 Penerbit:\n",
            "Publisher\n",
            "Harlequin                   7535\n",
            "Silhouette                  4220\n",
            "Pocket                      3905\n",
            "Ballantine Books            3783\n",
            "Bantam Books                3646\n",
            "Scholastic                  3160\n",
            "Simon &amp; Schuster        2971\n",
            "Penguin Books               2844\n",
            "Berkley Publishing Group    2771\n",
            "Warner Books                2727\n",
            "Name: count, dtype: int64\n"
          ]
        }
      ]
    },
    {
      "cell_type": "markdown",
      "source": [
        "Output menunjukkan jumlah buku, penulis, dan penerbit unik, serta 10 penulis dan penerbit teratas:\n",
        "\n",
        "- Terdapat 242,135 buku unik, 102,022 penulis unik, dan 16,807 penerbit unik.\n",
        "Penulis seperti Agatha Christie, William Shakespeare, dan Stephen King adalah yang paling banyak bukunya.\n",
        "- Penerbit seperti Harlequin dan Silhouette adalah yang paling banyak bukunya. Insight: Ini menunjukkan skala dan keragaman data. Adanya penulis dan penerbit yang sangat produktif mengindikasikan fenomena \"long-tail\" yang umum dalam sistem rekomendasi, di mana sebagian kecil item/kreator mendominasi, sementara sebagian besar lainnya memiliki jumlah yang sedikit."
      ],
      "metadata": {
        "id": "u4C51-4BPQ_l"
      }
    },
    {
      "cell_type": "code",
      "source": [
        "print(\"\\nJumlah User-ID unik:\", df_users['User-ID'].nunique())\n",
        "print(\"\\nDistribusi Usia (Top 10):\")\n",
        "print(df_users['Age'].value_counts(dropna=False).head(10)) # Termasuk NaN"
      ],
      "metadata": {
        "colab": {
          "base_uri": "https://localhost:8080/"
        },
        "id": "aVwNplr07VWX",
        "outputId": "f5a809ef-396d-48d9-895f-60a918bc6cdd"
      },
      "execution_count": null,
      "outputs": [
        {
          "output_type": "stream",
          "name": "stdout",
          "text": [
            "\n",
            "Jumlah User-ID unik: 278858\n",
            "\n",
            "Distribusi Usia (Top 10):\n",
            "Age\n",
            "NaN     110762\n",
            "24.0      5687\n",
            "25.0      5618\n",
            "26.0      5547\n",
            "23.0      5456\n",
            "27.0      5383\n",
            "28.0      5347\n",
            "29.0      5293\n",
            "32.0      4781\n",
            "30.0      4778\n",
            "Name: count, dtype: int64\n"
          ]
        }
      ]
    },
    {
      "cell_type": "markdown",
      "source": [
        "Output menunjukkan jumlah User-ID unik dan distribusi usia pengguna:\n",
        "\n",
        "- Terdapat 278,858 User-ID unik.\n",
        "- Pada distribusi usia, nilai NaN mendominasi (110,762 entri), diikuti oleh usia 24, 25, dan seterusnya. Insight: Kolom Age memerlukan pembersihan dan imputasi karena banyaknya missing values dan adanya usia yang tidak realistis, sebelum dapat digunakan sebagai fitur yang berarti."
      ],
      "metadata": {
        "id": "mqI80xAzPdFZ"
      }
    },
    {
      "cell_type": "code",
      "source": [
        "print(\"\\nJumlah rating unik:\", df_ratings['Book-Rating'].nunique())\n",
        "print(\"\\nDistribusi Book-Rating:\")\n",
        "print(df_ratings['Book-Rating'].value_counts().sort_index())"
      ],
      "metadata": {
        "colab": {
          "base_uri": "https://localhost:8080/"
        },
        "id": "L9zkggHr7X_R",
        "outputId": "de0625f9-048d-45ba-8f12-b13f9c09113e"
      },
      "execution_count": null,
      "outputs": [
        {
          "output_type": "stream",
          "name": "stdout",
          "text": [
            "\n",
            "Jumlah rating unik: 11\n",
            "\n",
            "Distribusi Book-Rating:\n",
            "Book-Rating\n",
            "0     716109\n",
            "1       1770\n",
            "2       2759\n",
            "3       5996\n",
            "4       8904\n",
            "5      50974\n",
            "6      36924\n",
            "7      76457\n",
            "8     103736\n",
            "9      67541\n",
            "10     78610\n",
            "Name: count, dtype: int64\n"
          ]
        }
      ]
    },
    {
      "cell_type": "markdown",
      "source": [
        "Output menunjukkan jumlah rating unik dan distribusi rating buku:\n",
        "\n",
        "- Terdapat 11 rating unik (dari 0 hingga 10).\n",
        "- Rating 0 memiliki jumlah terbanyak (716,109 entri), jauh melampaui rating lainnya. Rating 8 dan 10 adalah rating eksplisit positif yang paling sering muncul. Insight: Ini adalah insight paling krusial untuk pemodelan Collaborative Filtering berbasis rating eksplisit. Dominasi rating 0 menegaskan bahwa nilai ini kemungkinan besar adalah implicit feedback atau tidak adanya rating eksplisit, dan perlu difilter keluar untuk model yang mengandalkan preferensi eksplisit (misalnya, pengguna \"menyukai\" atau \"tidak menyukai\" buku)."
      ],
      "metadata": {
        "id": "2M-V6D8oPlHu"
      }
    },
    {
      "cell_type": "markdown",
      "source": [
        "### 3.4. Visualisasi Data (EDA)"
      ],
      "metadata": {
        "id": "jNsLjCMcel7s"
      }
    },
    {
      "cell_type": "code",
      "source": [
        "# Distribusi Rating\n",
        "plt.figure(figsize=(8, 5))\n",
        "sns.countplot(x='Book-Rating', data=df_ratings)\n",
        "plt.title('Distribusi Rating Buku')\n",
        "plt.xlabel('Rating')\n",
        "plt.ylabel('Jumlah')\n",
        "plt.show()\n",
        "\n",
        "# Distribusi Usia Pengguna (jika ada nilai yang masuk akal setelah cleaning)\n",
        "# Anda bisa memfilter usia yang aneh sebelum visualisasi\n",
        "plt.figure(figsize=(10, 6))\n",
        "sns.histplot(df_users['Age'].dropna(), bins=30, kde=True)\n",
        "plt.title('Distribusi Usia Pengguna')\n",
        "plt.xlabel('Usia')\n",
        "plt.ylabel('Jumlah Pengguna')\n",
        "plt.show()\n",
        "\n",
        "# Top N Penulis\n",
        "plt.figure(figsize=(12, 6))\n",
        "df_books['Book-Author'].value_counts().head(10).plot(kind='bar')\n",
        "plt.title('10 Penulis Terpopuler')\n",
        "plt.xlabel('Penulis')\n",
        "plt.ylabel('Jumlah Buku')\n",
        "plt.xticks(rotation=45, ha='right')\n",
        "plt.tight_layout()\n",
        "plt.show()"
      ],
      "metadata": {
        "colab": {
          "base_uri": "https://localhost:8080/",
          "height": 1000
        },
        "id": "WqWjWqVv7esN",
        "outputId": "e1c456e5-441a-43b3-8a68-9344420fe4ca"
      },
      "execution_count": null,
      "outputs": [
        {
          "output_type": "display_data",
          "data": {
            "text/plain": [
              "<Figure size 800x500 with 1 Axes>"
            ],
            "image/png": "[encoded data removed]"
          },
          "metadata": {}
        },
        {
          "output_type": "display_data",
          "data": {
            "text/plain": [
              "<Figure size 1000x600 with 1 Axes>"
            ],
            "image/png": "[encoded data removed]"
          },
          "metadata": {}
        },
        {
          "output_type": "display_data",
          "data": {
            "text/plain": [
              "<Figure size 1200x600 with 1 Axes>"
            ],
            "image/png": "[encoded data removed]"
          },
          "metadata": {}
        }
      ]
    },
    {
      "cell_type": "markdown",
      "source": [
        "1. Distribusi Rating Buku (Plot):\n",
        "- Plot ini secara visual menunjukkan bahwa rating 0 memiliki batang yang sangat tinggi dibandingkan dengan rating 1-10. Setelah rating 0, rating 8 dan 10 adalah yang paling sering diberikan.\n",
        "- Insight: Visualisasi ini memperkuat insight sebelumnya bahwa rating 0 harus ditangani secara terpisah atau dihapus jika sistem rekomendasi hanya berfokus pada preferensi eksplisit. Ini juga menunjukkan bahwa pengguna yang memberikan rating cenderung memberikan nilai yang cukup tinggi.\n",
        "\n",
        "2. Distribusi Usia Pengguna (Plot):\n",
        "- Plot histogram menunjukkan distribusi usia pengguna terkonsentrasi pada rentang sekitar 20-an hingga 40-an tahun, dengan puncak di usia 30-an. Terdapat juga pengguna di luar rentang usia normal yang akan ditangani di tahap selanjutnya.\n",
        "- Insight: Visualisasi ini membantu mengidentifikasi demografi utama pengguna dan kebutuhan untuk membersihkan data usia yang tidak valid agar distribusi menjadi lebih realistis.\n",
        "\n",
        "3. Top 10 Penulis Terpopuler (Plot)\n",
        "- Plot bar menunjukkan bahwa Agatha Christie, William Shakespeare, dan Stephen King adalah tiga penulis teratas dengan jumlah buku terbanyak dalam dataset.\n",
        "- Insight: Plot ini menegaskan adanya \"long-tail distribution\" pada penulis, di mana beberapa penulis sangat populer dan memiliki banyak buku, sementara sebagian besar penulis lainnya memiliki kontribusi yang jauh lebih sedikit. Ini adalah karakteristik umum data rekomendasi."
      ],
      "metadata": {
        "id": "7Eeui3_hPrXS"
      }
    },
    {
      "cell_type": "markdown",
      "source": [
        "## 4. Data Preparation"
      ],
      "metadata": {
        "id": "wIgS3Ta5euX_"
      }
    },
    {
      "cell_type": "markdown",
      "source": [
        "Tahap ini fokus pada pembersihan, transformasi, dan penggabungan data untuk mempersiapkannya untuk tahap modeling."
      ],
      "metadata": {
        "id": "5RJEqwnAevjH"
      }
    },
    {
      "cell_type": "code",
      "source": [
        "# Konversi ke numerik, non-numerik akan menjadi NaN\n",
        "df_books['Year-Of-Publication'] = pd.to_numeric(df_books['Year-Of-Publication'], errors='coerce')\n",
        "\n",
        "current_year = 2024\n",
        "df_books.loc[(df_books['Year-Of-Publication'] > current_year) | (df_books['Year-Of-Publication'] < 1000), 'Year-Of-Publication'] = np.nan\n",
        "\n",
        "mode_year = df_books['Year-Of-Publication'].mode()[0]\n",
        "df_books['Year-Of-Publication'].fillna(mode_year, inplace=True)\n",
        "\n",
        "df_books['Year-Of-Publication'] = df_books['Year-Of-Publication'].astype(int)\n",
        "\n",
        "print(\"Kolom 'Year-Of-Publication' berhasil dibersihkan dan diubah ke tipe integer.\")\n",
        "print(\"Distribusi Tahun Publikasi setelah perbaikan:\")\n",
        "print(df_books['Year-Of-Publication'].value_counts().sort_index(ascending=False).head(10))\n",
        "print(f\"\\nInfo df_books setelah perbaikan Year-Of-Publication:\")\n",
        "df_books.info()"
      ],
      "metadata": {
        "colab": {
          "base_uri": "https://localhost:8080/"
        },
        "id": "I9ecU7zceymz",
        "outputId": "3fc9391b-7e73-4085-e537-7cc09987ef3c"
      },
      "execution_count": null,
      "outputs": [
        {
          "output_type": "stream",
          "name": "stdout",
          "text": [
            "Kolom 'Year-Of-Publication' berhasil dibersihkan dan diubah ke tipe integer.\n",
            "Distribusi Tahun Publikasi setelah perbaikan:\n",
            "Year-Of-Publication\n",
            "2024       1\n",
            "2021       1\n",
            "2020       3\n",
            "2012       1\n",
            "2011       2\n",
            "2010       2\n",
            "2008       1\n",
            "2006       3\n",
            "2005      46\n",
            "2004    5839\n",
            "Name: count, dtype: int64\n",
            "\n",
            "Info df_books setelah perbaikan Year-Of-Publication:\n",
            "<class 'pandas.core.frame.DataFrame'>\n",
            "RangeIndex: 271360 entries, 0 to 271359\n",
            "Data columns (total 8 columns):\n",
            " #   Column               Non-Null Count   Dtype \n",
            "---  ------               --------------   ----- \n",
            " 0   ISBN                 271360 non-null  object\n",
            " 1   Book-Title           271360 non-null  object\n",
            " 2   Book-Author          271358 non-null  object\n",
            " 3   Year-Of-Publication  271360 non-null  int64 \n",
            " 4   Publisher            271358 non-null  object\n",
            " 5   Image-URL-S          271360 non-null  object\n",
            " 6   Image-URL-M          271360 non-null  object\n",
            " 7   Image-URL-L          271357 non-null  object\n",
            "dtypes: int64(1), object(7)\n",
            "memory usage: 16.6+ MB\n"
          ]
        },
        {
          "output_type": "stream",
          "name": "stderr",
          "text": [
            "<ipython-input-13-093f7503fe87>:8: FutureWarning: A value is trying to be set on a copy of a DataFrame or Series through chained assignment using an inplace method.\n",
            "The behavior will change in pandas 3.0. This inplace method will never work because the intermediate object on which we are setting values always behaves as a copy.\n",
            "\n",
            "For example, when doing 'df[col].method(value, inplace=True)', try using 'df.method({col: value}, inplace=True)' or df[col] = df[col].method(value) instead, to perform the operation inplace on the original object.\n",
            "\n",
            "\n",
            "  df_books['Year-Of-Publication'].fillna(mode_year, inplace=True)\n"
          ]
        }
      ]
    },
    {
      "cell_type": "markdown",
      "source": [
        "### 4.1. Penanganan Missing Values"
      ],
      "metadata": {
        "id": "8CHf5yfefPnP"
      }
    },
    {
      "cell_type": "code",
      "source": [
        "df_books.isnull().sum()"
      ],
      "metadata": {
        "colab": {
          "base_uri": "https://localhost:8080/",
          "height": 335
        },
        "id": "QXM88Q_Gm_i4",
        "outputId": "f8ea457f-81ad-414a-828c-2b829ace137d"
      },
      "execution_count": null,
      "outputs": [
        {
          "output_type": "execute_result",
          "data": {
            "text/plain": [
              "ISBN                   0\n",
              "Book-Title             0\n",
              "Book-Author            2\n",
              "Year-Of-Publication    0\n",
              "Publisher              2\n",
              "Image-URL-S            0\n",
              "Image-URL-M            0\n",
              "Image-URL-L            3\n",
              "dtype: int64"
            ],
            "text/html": [
              "<div>\n",
              "<style scoped>\n",
              "    .dataframe tbody tr th:only-of-type {\n",
              "        vertical-align: middle;\n",
              "    }\n",
              "\n",
              "    .dataframe tbody tr th {\n",
              "        vertical-align: top;\n",
              "    }\n",
              "\n",
              "    .dataframe thead th {\n",
              "        text-align: right;\n",
              "    }\n",
              "</style>\n",
              "<table border=\"1\" class=\"dataframe\">\n",
              "  <thead>\n",
              "    <tr style=\"text-align: right;\">\n",
              "      <th></th>\n",
              "      <th>0</th>\n",
              "    </tr>\n",
              "  </thead>\n",
              "  <tbody>\n",
              "    <tr>\n",
              "      <th>ISBN</th>\n",
              "      <td>0</td>\n",
              "    </tr>\n",
              "    <tr>\n",
              "      <th>Book-Title</th>\n",
              "      <td>0</td>\n",
              "    </tr>\n",
              "    <tr>\n",
              "      <th>Book-Author</th>\n",
              "      <td>2</td>\n",
              "    </tr>\n",
              "    <tr>\n",
              "      <th>Year-Of-Publication</th>\n",
              "      <td>0</td>\n",
              "    </tr>\n",
              "    <tr>\n",
              "      <th>Publisher</th>\n",
              "      <td>2</td>\n",
              "    </tr>\n",
              "    <tr>\n",
              "      <th>Image-URL-S</th>\n",
              "      <td>0</td>\n",
              "    </tr>\n",
              "    <tr>\n",
              "      <th>Image-URL-M</th>\n",
              "      <td>0</td>\n",
              "    </tr>\n",
              "    <tr>\n",
              "      <th>Image-URL-L</th>\n",
              "      <td>3</td>\n",
              "    </tr>\n",
              "  </tbody>\n",
              "</table>\n",
              "</div><br><label><b>dtype:</b> int64</label>"
            ]
          },
          "metadata": {},
          "execution_count": 14
        }
      ]
    },
    {
      "cell_type": "code",
      "source": [
        "df_books.dropna(inplace=True)"
      ],
      "metadata": {
        "id": "zjTf2LRfnTUB"
      },
      "execution_count": null,
      "outputs": []
    },
    {
      "cell_type": "code",
      "source": [
        "df_books.isnull().sum()"
      ],
      "metadata": {
        "colab": {
          "base_uri": "https://localhost:8080/",
          "height": 335
        },
        "id": "FcrXjd91nhn_",
        "outputId": "7edfd2f6-2b97-4c05-a711-cafb65f28a58"
      },
      "execution_count": null,
      "outputs": [
        {
          "output_type": "execute_result",
          "data": {
            "text/plain": [
              "ISBN                   0\n",
              "Book-Title             0\n",
              "Book-Author            0\n",
              "Year-Of-Publication    0\n",
              "Publisher              0\n",
              "Image-URL-S            0\n",
              "Image-URL-M            0\n",
              "Image-URL-L            0\n",
              "dtype: int64"
            ],
            "text/html": [
              "<div>\n",
              "<style scoped>\n",
              "    .dataframe tbody tr th:only-of-type {\n",
              "        vertical-align: middle;\n",
              "    }\n",
              "\n",
              "    .dataframe tbody tr th {\n",
              "        vertical-align: top;\n",
              "    }\n",
              "\n",
              "    .dataframe thead th {\n",
              "        text-align: right;\n",
              "    }\n",
              "</style>\n",
              "<table border=\"1\" class=\"dataframe\">\n",
              "  <thead>\n",
              "    <tr style=\"text-align: right;\">\n",
              "      <th></th>\n",
              "      <th>0</th>\n",
              "    </tr>\n",
              "  </thead>\n",
              "  <tbody>\n",
              "    <tr>\n",
              "      <th>ISBN</th>\n",
              "      <td>0</td>\n",
              "    </tr>\n",
              "    <tr>\n",
              "      <th>Book-Title</th>\n",
              "      <td>0</td>\n",
              "    </tr>\n",
              "    <tr>\n",
              "      <th>Book-Author</th>\n",
              "      <td>0</td>\n",
              "    </tr>\n",
              "    <tr>\n",
              "      <th>Year-Of-Publication</th>\n",
              "      <td>0</td>\n",
              "    </tr>\n",
              "    <tr>\n",
              "      <th>Publisher</th>\n",
              "      <td>0</td>\n",
              "    </tr>\n",
              "    <tr>\n",
              "      <th>Image-URL-S</th>\n",
              "      <td>0</td>\n",
              "    </tr>\n",
              "    <tr>\n",
              "      <th>Image-URL-M</th>\n",
              "      <td>0</td>\n",
              "    </tr>\n",
              "    <tr>\n",
              "      <th>Image-URL-L</th>\n",
              "      <td>0</td>\n",
              "    </tr>\n",
              "  </tbody>\n",
              "</table>\n",
              "</div><br><label><b>dtype:</b> int64</label>"
            ]
          },
          "metadata": {},
          "execution_count": 16
        }
      ]
    },
    {
      "cell_type": "code",
      "source": [
        "df_ratings.isnull().sum()"
      ],
      "metadata": {
        "colab": {
          "base_uri": "https://localhost:8080/",
          "height": 178
        },
        "id": "OYJZDQZEnIzt",
        "outputId": "c653a7f8-ce42-43bc-c767-70c4c8836b93"
      },
      "execution_count": null,
      "outputs": [
        {
          "output_type": "execute_result",
          "data": {
            "text/plain": [
              "User-ID        0\n",
              "ISBN           0\n",
              "Book-Rating    0\n",
              "dtype: int64"
            ],
            "text/html": [
              "<div>\n",
              "<style scoped>\n",
              "    .dataframe tbody tr th:only-of-type {\n",
              "        vertical-align: middle;\n",
              "    }\n",
              "\n",
              "    .dataframe tbody tr th {\n",
              "        vertical-align: top;\n",
              "    }\n",
              "\n",
              "    .dataframe thead th {\n",
              "        text-align: right;\n",
              "    }\n",
              "</style>\n",
              "<table border=\"1\" class=\"dataframe\">\n",
              "  <thead>\n",
              "    <tr style=\"text-align: right;\">\n",
              "      <th></th>\n",
              "      <th>0</th>\n",
              "    </tr>\n",
              "  </thead>\n",
              "  <tbody>\n",
              "    <tr>\n",
              "      <th>User-ID</th>\n",
              "      <td>0</td>\n",
              "    </tr>\n",
              "    <tr>\n",
              "      <th>ISBN</th>\n",
              "      <td>0</td>\n",
              "    </tr>\n",
              "    <tr>\n",
              "      <th>Book-Rating</th>\n",
              "      <td>0</td>\n",
              "    </tr>\n",
              "  </tbody>\n",
              "</table>\n",
              "</div><br><label><b>dtype:</b> int64</label>"
            ]
          },
          "metadata": {},
          "execution_count": 17
        }
      ]
    },
    {
      "cell_type": "code",
      "source": [
        "# Penanganan df_users['Age']\n",
        "# Mengisi NaN dengan median usia\n",
        "median_age = df_users['Age'].median()\n",
        "df_users['Age'].fillna(median_age, inplace=True)\n",
        "\n",
        "# Memperbaiki usia yang tidak masuk akal (< 5 atau > 100) dengan median\n",
        "df_users.loc[(df_users['Age'] < 5) | (df_users['Age'] > 100), 'Age'] = median_age\n",
        "df_users['Age'] = df_users['Age'].astype(int) # Pastikan tipe data integer\n",
        "print(f\"Jumlah NaN di df_users['Age'] setelah imputasi: {df_users['Age'].isnull().sum()}\")\n",
        "print(\"Kolom 'Age' berhasil dibersihkan dan diubah ke tipe integer.\")\n",
        "\n",
        "# Penanganan df_books['Book-Author'] dan df_books['Publisher']\n",
        "df_books['Book-Author'].fillna('unknown', inplace=True)\n",
        "df_books['Publisher'].fillna('unknown', inplace=True)\n",
        "print(\"NaN pada 'Book-Author' dan 'Publisher' diisi dengan 'unknown'.\")"
      ],
      "metadata": {
        "colab": {
          "base_uri": "https://localhost:8080/"
        },
        "id": "4ChZ3D7XfW8t",
        "outputId": "9784f130-d70d-4aa0-9ea7-3857fc21d032"
      },
      "execution_count": null,
      "outputs": [
        {
          "output_type": "stream",
          "name": "stdout",
          "text": [
            "Jumlah NaN di df_users['Age'] setelah imputasi: 0\n",
            "Kolom 'Age' berhasil dibersihkan dan diubah ke tipe integer.\n",
            "NaN pada 'Book-Author' dan 'Publisher' diisi dengan 'unknown'.\n"
          ]
        },
        {
          "output_type": "stream",
          "name": "stderr",
          "text": [
            "<ipython-input-18-7062b84b98f3>:4: FutureWarning: A value is trying to be set on a copy of a DataFrame or Series through chained assignment using an inplace method.\n",
            "The behavior will change in pandas 3.0. This inplace method will never work because the intermediate object on which we are setting values always behaves as a copy.\n",
            "\n",
            "For example, when doing 'df[col].method(value, inplace=True)', try using 'df.method({col: value}, inplace=True)' or df[col] = df[col].method(value) instead, to perform the operation inplace on the original object.\n",
            "\n",
            "\n",
            "  df_users['Age'].fillna(median_age, inplace=True)\n",
            "<ipython-input-18-7062b84b98f3>:13: FutureWarning: A value is trying to be set on a copy of a DataFrame or Series through chained assignment using an inplace method.\n",
            "The behavior will change in pandas 3.0. This inplace method will never work because the intermediate object on which we are setting values always behaves as a copy.\n",
            "\n",
            "For example, when doing 'df[col].method(value, inplace=True)', try using 'df.method({col: value}, inplace=True)' or df[col] = df[col].method(value) instead, to perform the operation inplace on the original object.\n",
            "\n",
            "\n",
            "  df_books['Book-Author'].fillna('unknown', inplace=True)\n",
            "<ipython-input-18-7062b84b98f3>:14: FutureWarning: A value is trying to be set on a copy of a DataFrame or Series through chained assignment using an inplace method.\n",
            "The behavior will change in pandas 3.0. This inplace method will never work because the intermediate object on which we are setting values always behaves as a copy.\n",
            "\n",
            "For example, when doing 'df[col].method(value, inplace=True)', try using 'df.method({col: value}, inplace=True)' or df[col] = df[col].method(value) instead, to perform the operation inplace on the original object.\n",
            "\n",
            "\n",
            "  df_books['Publisher'].fillna('unknown', inplace=True)\n"
          ]
        }
      ]
    },
    {
      "cell_type": "code",
      "source": [
        "# 4.3. Penanganan Rating 0 di df_ratings\n",
        "\n",
        "df_ratings_explicit = df_ratings[df_ratings['Book-Rating'] != 0].copy()\n",
        "print(f\"Jumlah rating sebelum filter rating 0: {len(df_ratings)}\")\n",
        "print(f\"Jumlah rating setelah filter rating 0: {len(df_ratings_explicit)}\")"
      ],
      "metadata": {
        "colab": {
          "base_uri": "https://localhost:8080/"
        },
        "id": "1VjuBM2-heii",
        "outputId": "8922ab1a-2e53-4e6b-c1d5-892902911fd8"
      },
      "execution_count": null,
      "outputs": [
        {
          "output_type": "stream",
          "name": "stdout",
          "text": [
            "Jumlah rating sebelum filter rating 0: 1149780\n",
            "Jumlah rating setelah filter rating 0: 433671\n"
          ]
        }
      ]
    },
    {
      "cell_type": "code",
      "source": [
        "# 4.4. Penggabungan DataFrame\n",
        "\n",
        "print(\"\\n--- Menggabungkan DataFrame (ratings, books, users) ---\")\n",
        "# Gabungkan df_ratings_explicit dengan df_books berdasarkan 'ISBN'\n",
        "merged_df = pd.merge(df_ratings_explicit, df_books, on='ISBN', how='inner')\n",
        "\n",
        "# Gabungkan hasilnya dengan df_users berdasarkan 'User-ID'\n",
        "final_df = pd.merge(merged_df, df_users, on='User-ID', how='inner')\n",
        "\n",
        "print(\"\\nFinal Merged DataFrame head:\")\n",
        "print(final_df.head())\n",
        "print(\"\\nFinal Merged DataFrame info:\")\n",
        "final_df.info()\n",
        "print(f\"Shape of final_df: {final_df.shape}\")"
      ],
      "metadata": {
        "colab": {
          "base_uri": "https://localhost:8080/"
        },
        "id": "bxbR0Xlph3zG",
        "outputId": "5b4b3d4b-d050-4fac-efdb-d9192374c39c"
      },
      "execution_count": null,
      "outputs": [
        {
          "output_type": "stream",
          "name": "stdout",
          "text": [
            "\n",
            "--- Menggabungkan DataFrame (ratings, books, users) ---\n",
            "\n",
            "Final Merged DataFrame head:\n",
            "   User-ID        ISBN  Book-Rating  \\\n",
            "0   276726  0155061224            5   \n",
            "1   276729  052165615X            3   \n",
            "2   276729  0521795028            6   \n",
            "3   276744  038550120X            7   \n",
            "4   276747  0060517794            9   \n",
            "\n",
            "                                          Book-Title    Book-Author  \\\n",
            "0                                   Rites of Passage     Judith Rae   \n",
            "1                                     Help!: Level 1  Philip Prowse   \n",
            "2  The Amsterdam Connection : Level 4 (Cambridge ...    Sue Leather   \n",
            "3                                    A Painted House   JOHN GRISHAM   \n",
            "4                           Little Altars Everywhere  Rebecca Wells   \n",
            "\n",
            "   Year-Of-Publication                   Publisher  \\\n",
            "0                 2001                      Heinle   \n",
            "1                 1999  Cambridge University Press   \n",
            "2                 2001  Cambridge University Press   \n",
            "3                 2001                   Doubleday   \n",
            "4                 2003                 HarperTorch   \n",
            "\n",
            "                                         Image-URL-S  \\\n",
            "0  http://images.amazon.com/images/P/0155061224.0...   \n",
            "1  http://images.amazon.com/images/P/052165615X.0...   \n",
            "2  http://images.amazon.com/images/P/0521795028.0...   \n",
            "3  http://images.amazon.com/images/P/038550120X.0...   \n",
            "4  http://images.amazon.com/images/P/0060517794.0...   \n",
            "\n",
            "                                         Image-URL-M  \\\n",
            "0  http://images.amazon.com/images/P/0155061224.0...   \n",
            "1  http://images.amazon.com/images/P/052165615X.0...   \n",
            "2  http://images.amazon.com/images/P/0521795028.0...   \n",
            "3  http://images.amazon.com/images/P/038550120X.0...   \n",
            "4  http://images.amazon.com/images/P/0060517794.0...   \n",
            "\n",
            "                                         Image-URL-L  \\\n",
            "0  http://images.amazon.com/images/P/0155061224.0...   \n",
            "1  http://images.amazon.com/images/P/052165615X.0...   \n",
            "2  http://images.amazon.com/images/P/0521795028.0...   \n",
            "3  http://images.amazon.com/images/P/038550120X.0...   \n",
            "4  http://images.amazon.com/images/P/0060517794.0...   \n",
            "\n",
            "                    Location  Age  \n",
            "0   seattle, washington, usa   32  \n",
            "1       rijeka, n/a, croatia   16  \n",
            "2       rijeka, n/a, croatia   16  \n",
            "3  torrance, california, usa   32  \n",
            "4       iowa city, iowa, usa   25  \n",
            "\n",
            "Final Merged DataFrame info:\n",
            "<class 'pandas.core.frame.DataFrame'>\n",
            "RangeIndex: 383837 entries, 0 to 383836\n",
            "Data columns (total 12 columns):\n",
            " #   Column               Non-Null Count   Dtype \n",
            "---  ------               --------------   ----- \n",
            " 0   User-ID              383837 non-null  int64 \n",
            " 1   ISBN                 383837 non-null  object\n",
            " 2   Book-Rating          383837 non-null  int64 \n",
            " 3   Book-Title           383837 non-null  object\n",
            " 4   Book-Author          383837 non-null  object\n",
            " 5   Year-Of-Publication  383837 non-null  int64 \n",
            " 6   Publisher            383837 non-null  object\n",
            " 7   Image-URL-S          383837 non-null  object\n",
            " 8   Image-URL-M          383837 non-null  object\n",
            " 9   Image-URL-L          383837 non-null  object\n",
            " 10  Location             383837 non-null  object\n",
            " 11  Age                  383837 non-null  int64 \n",
            "dtypes: int64(4), object(8)\n",
            "memory usage: 35.1+ MB\n",
            "Shape of final_df: (383837, 12)\n"
          ]
        }
      ]
    },
    {
      "cell_type": "code",
      "source": [
        "final_df.shape"
      ],
      "metadata": {
        "colab": {
          "base_uri": "https://localhost:8080/"
        },
        "id": "T_JO1-Vyn3Nt",
        "outputId": "8ab32022-eea0-4862-e057-a7201dbb2bcd"
      },
      "execution_count": null,
      "outputs": [
        {
          "output_type": "execute_result",
          "data": {
            "text/plain": [
              "(383837, 12)"
            ]
          },
          "metadata": {},
          "execution_count": 21
        }
      ]
    },
    {
      "cell_type": "markdown",
      "source": [
        "Penggabungan DataFrame:\n",
        "- Tiga DataFrame asli (df_ratings_explicit, df_books, df_users) berhasil digabungkan menjadi satu final_df yang komprehensif. DataFrame hasil gabungan ini memiliki 383,837 entri dan 12 kolom.\n",
        "- Insight: Penggabungan ini menciptakan dataset yang lengkap dan terstruktur, memungkinkan kita untuk mengakses informasi pengguna, buku, dan rating secara bersamaan. Jumlah baris yang dihasilkan menunjukkan jumlah interaksi rating eksplisit yang valid setelah semua pra-pemrosesan."
      ],
      "metadata": {
        "id": "YlIPmy1MSzDH"
      }
    },
    {
      "cell_type": "code",
      "source": [
        "# 4.6. Mengganti Nama Kolom untuk Konsistensi\n",
        "print(\"\\n--- Mengganti nama kolom menjadi 'user_id', 'item_id', 'rating' ---\")\n",
        "final_df.rename(columns={'User-ID': 'user_id', 'ISBN': 'item_id', 'Book-Rating': 'rating'}, inplace=True)\n",
        "\n",
        "# Menampilkan 5 baris pertama dari DataFrame yang sudah bersih dengan nama kolom baru\n",
        "print(\"\\nFinal DataFrame yang sudah bersih dan siap untuk Modeling (setelah renaming):\")\n",
        "print(final_df.head())"
      ],
      "metadata": {
        "colab": {
          "base_uri": "https://localhost:8080/"
        },
        "id": "oVhKLYV5rzSz",
        "outputId": "75fe23fe-a53b-4e2d-9cf1-d0f773bac6fc"
      },
      "execution_count": null,
      "outputs": [
        {
          "output_type": "stream",
          "name": "stdout",
          "text": [
            "\n",
            "--- Mengganti nama kolom menjadi 'user_id', 'item_id', 'rating' ---\n",
            "\n",
            "Final DataFrame yang sudah bersih dan siap untuk Modeling (setelah renaming):\n",
            "   user_id     item_id  rating  \\\n",
            "0   276726  0155061224       5   \n",
            "1   276729  052165615X       3   \n",
            "2   276729  0521795028       6   \n",
            "3   276744  038550120X       7   \n",
            "4   276747  0060517794       9   \n",
            "\n",
            "                                          Book-Title    Book-Author  \\\n",
            "0                                   Rites of Passage     Judith Rae   \n",
            "1                                     Help!: Level 1  Philip Prowse   \n",
            "2  The Amsterdam Connection : Level 4 (Cambridge ...    Sue Leather   \n",
            "3                                    A Painted House   JOHN GRISHAM   \n",
            "4                           Little Altars Everywhere  Rebecca Wells   \n",
            "\n",
            "   Year-Of-Publication                   Publisher  \\\n",
            "0                 2001                      Heinle   \n",
            "1                 1999  Cambridge University Press   \n",
            "2                 2001  Cambridge University Press   \n",
            "3                 2001                   Doubleday   \n",
            "4                 2003                 HarperTorch   \n",
            "\n",
            "                                         Image-URL-S  \\\n",
            "0  http://images.amazon.com/images/P/0155061224.0...   \n",
            "1  http://images.amazon.com/images/P/052165615X.0...   \n",
            "2  http://images.amazon.com/images/P/0521795028.0...   \n",
            "3  http://images.amazon.com/images/P/038550120X.0...   \n",
            "4  http://images.amazon.com/images/P/0060517794.0...   \n",
            "\n",
            "                                         Image-URL-M  \\\n",
            "0  http://images.amazon.com/images/P/0155061224.0...   \n",
            "1  http://images.amazon.com/images/P/052165615X.0...   \n",
            "2  http://images.amazon.com/images/P/0521795028.0...   \n",
            "3  http://images.amazon.com/images/P/038550120X.0...   \n",
            "4  http://images.amazon.com/images/P/0060517794.0...   \n",
            "\n",
            "                                         Image-URL-L  \\\n",
            "0  http://images.amazon.com/images/P/0155061224.0...   \n",
            "1  http://images.amazon.com/images/P/052165615X.0...   \n",
            "2  http://images.amazon.com/images/P/0521795028.0...   \n",
            "3  http://images.amazon.com/images/P/038550120X.0...   \n",
            "4  http://images.amazon.com/images/P/0060517794.0...   \n",
            "\n",
            "                    Location  Age  \n",
            "0   seattle, washington, usa   32  \n",
            "1       rijeka, n/a, croatia   16  \n",
            "2       rijeka, n/a, croatia   16  \n",
            "3  torrance, california, usa   32  \n",
            "4       iowa city, iowa, usa   25  \n"
          ]
        }
      ]
    },
    {
      "cell_type": "code",
      "source": [
        "# Encoding User-ID dan ISBN menjadi integer berurutan\n",
        "user_ids = final_df['user_id'].unique().tolist()\n",
        "user_to_idx = {user_id: idx for idx, user_id in enumerate(user_ids)}\n",
        "idx_to_user = {idx: user_id for idx, user_id in enumerate(user_ids)}\n",
        "final_df['user_encoded'] = final_df['user_id'].map(user_to_idx)\n",
        "\n",
        "book_ids = final_df['item_id'].unique().tolist()\n",
        "book_to_idx = {book_id: idx for idx, book_id in enumerate(book_ids)}\n",
        "idx_to_book = {idx: book_id for idx, book_id in enumerate(book_ids)}\n",
        "final_df['book_encoded'] = final_df['item_id'].map(book_to_idx)\n",
        "\n",
        "# Mendapatkan jumlah pengguna dan buku unik\n",
        "num_users = len(user_to_idx)\n",
        "num_books = len(book_to_idx)\n",
        "\n",
        "# Mengonversi rating ke tipe float\n",
        "final_df['rating'] = final_df['rating'].values.astype(np.float32)\n",
        "\n",
        "# Mengacak data dan membagi menjadi training dan validation set\n",
        "from sklearn.model_selection import train_test_split\n",
        "\n",
        "# Memisahkan fitur dan target\n",
        "X = final_df[['user_encoded', 'book_encoded']].values\n",
        "y = final_df['rating'].values\n",
        "\n",
        "# Split data menjadi training dan validation\n",
        "X_train, X_val, y_train, y_val = train_test_split(X, y, test_size=0.2, random_state=42)\n",
        "\n",
        "print(f\"Jumlah pengguna unik: {num_users}\")\n",
        "print(f\"Jumlah buku unik: {num_books}\")\n",
        "print(f\"Shape X_train: {X_train.shape}\")\n",
        "print(f\"Shape X_val: {X_val.shape}\")\n",
        "print(f\"Shape y_train: {y_train.shape}\")\n",
        "print(f\"Shape y_val: {y_val.shape}\")"
      ],
      "metadata": {
        "colab": {
          "base_uri": "https://localhost:8080/"
        },
        "id": "yX3jN7MGD-pt",
        "outputId": "09240652-0cbd-4137-f61e-d8794f983263"
      },
      "execution_count": null,
      "outputs": [
        {
          "output_type": "stream",
          "name": "stdout",
          "text": [
            "Jumlah pengguna unik: 68091\n",
            "Jumlah buku unik: 149831\n",
            "Shape X_train: (307069, 2)\n",
            "Shape X_val: (76768, 2)\n",
            "Shape y_train: (307069,)\n",
            "Shape y_val: (76768,)\n"
          ]
        }
      ]
    },
    {
      "cell_type": "code",
      "source": [
        "final_df.head()"
      ],
      "metadata": {
        "colab": {
          "base_uri": "https://localhost:8080/",
          "height": 452
        },
        "id": "wv4prtCFn-7n",
        "outputId": "8b359c9c-e150-4b9a-ccf9-eb960cd0e968"
      },
      "execution_count": null,
      "outputs": [
        {
          "output_type": "execute_result",
          "data": {
            "text/plain": [
              "   user_id     item_id  rating  \\\n",
              "0   276726  0155061224       5   \n",
              "1   276729  052165615X       3   \n",
              "2   276729  0521795028       6   \n",
              "3   276744  038550120X       7   \n",
              "4   276747  0060517794       9   \n",
              "\n",
              "                                          Book-Title    Book-Author  \\\n",
              "0                                   Rites of Passage     Judith Rae   \n",
              "1                                     Help!: Level 1  Philip Prowse   \n",
              "2  The Amsterdam Connection : Level 4 (Cambridge ...    Sue Leather   \n",
              "3                                    A Painted House   JOHN GRISHAM   \n",
              "4                           Little Altars Everywhere  Rebecca Wells   \n",
              "\n",
              "   Year-Of-Publication                   Publisher  \\\n",
              "0                 2001                      Heinle   \n",
              "1                 1999  Cambridge University Press   \n",
              "2                 2001  Cambridge University Press   \n",
              "3                 2001                   Doubleday   \n",
              "4                 2003                 HarperTorch   \n",
              "\n",
              "                                         Image-URL-S  \\\n",
              "0  http://images.amazon.com/images/P/0155061224.0...   \n",
              "1  http://images.amazon.com/images/P/052165615X.0...   \n",
              "2  http://images.amazon.com/images/P/0521795028.0...   \n",
              "3  http://images.amazon.com/images/P/038550120X.0...   \n",
              "4  http://images.amazon.com/images/P/0060517794.0...   \n",
              "\n",
              "                                         Image-URL-M  \\\n",
              "0  http://images.amazon.com/images/P/0155061224.0...   \n",
              "1  http://images.amazon.com/images/P/052165615X.0...   \n",
              "2  http://images.amazon.com/images/P/0521795028.0...   \n",
              "3  http://images.amazon.com/images/P/038550120X.0...   \n",
              "4  http://images.amazon.com/images/P/0060517794.0...   \n",
              "\n",
              "                                         Image-URL-L  \\\n",
              "0  http://images.amazon.com/images/P/0155061224.0...   \n",
              "1  http://images.amazon.com/images/P/052165615X.0...   \n",
              "2  http://images.amazon.com/images/P/0521795028.0...   \n",
              "3  http://images.amazon.com/images/P/038550120X.0...   \n",
              "4  http://images.amazon.com/images/P/0060517794.0...   \n",
              "\n",
              "                    Location  Age  \n",
              "0   seattle, washington, usa   32  \n",
              "1       rijeka, n/a, croatia   16  \n",
              "2       rijeka, n/a, croatia   16  \n",
              "3  torrance, california, usa   32  \n",
              "4       iowa city, iowa, usa   25  "
            ],
            "text/html": [
              "\n",
              "  <div id=\"df-7d196d97-0034-4b02-8818-5fadac7b8120\" class=\"colab-df-container\">\n",
              "    <div>\n",
              "<style scoped>\n",
              "    .dataframe tbody tr th:only-of-type {\n",
              "        vertical-align: middle;\n",
              "    }\n",
              "\n",
              "    .dataframe tbody tr th {\n",
              "        vertical-align: top;\n",
              "    }\n",
              "\n",
              "    .dataframe thead th {\n",
              "        text-align: right;\n",
              "    }\n",
              "</style>\n",
              "<table border=\"1\" class=\"dataframe\">\n",
              "  <thead>\n",
              "    <tr style=\"text-align: right;\">\n",
              "      <th></th>\n",
              "      <th>user_id</th>\n",
              "      <th>item_id</th>\n",
              "      <th>rating</th>\n",
              "      <th>Book-Title</th>\n",
              "      <th>Book-Author</th>\n",
              "      <th>Year-Of-Publication</th>\n",
              "      <th>Publisher</th>\n",
              "      <th>Image-URL-S</th>\n",
              "      <th>Image-URL-M</th>\n",
              "      <th>Image-URL-L</th>\n",
              "      <th>Location</th>\n",
              "      <th>Age</th>\n",
              "    </tr>\n",
              "  </thead>\n",
              "  <tbody>\n",
              "    <tr>\n",
              "      <th>0</th>\n",
              "      <td>276726</td>\n",
              "      <td>0155061224</td>\n",
              "      <td>5</td>\n",
              "      <td>Rites of Passage</td>\n",
              "      <td>Judith Rae</td>\n",
              "      <td>2001</td>\n",
              "      <td>Heinle</td>\n",
              "      <td>http://images.amazon.com/images/P/0155061224.0...</td>\n",
              "      <td>http://images.amazon.com/images/P/0155061224.0...</td>\n",
              "      <td>http://images.amazon.com/images/P/0155061224.0...</td>\n",
              "      <td>seattle, washington, usa</td>\n",
              "      <td>32</td>\n",
              "    </tr>\n",
              "    <tr>\n",
              "      <th>1</th>\n",
              "      <td>276729</td>\n",
              "      <td>052165615X</td>\n",
              "      <td>3</td>\n",
              "      <td>Help!: Level 1</td>\n",
              "      <td>Philip Prowse</td>\n",
              "      <td>1999</td>\n",
              "      <td>Cambridge University Press</td>\n",
              "      <td>http://images.amazon.com/images/P/052165615X.0...</td>\n",
              "      <td>http://images.amazon.com/images/P/052165615X.0...</td>\n",
              "      <td>http://images.amazon.com/images/P/052165615X.0...</td>\n",
              "      <td>rijeka, n/a, croatia</td>\n",
              "      <td>16</td>\n",
              "    </tr>\n",
              "    <tr>\n",
              "      <th>2</th>\n",
              "      <td>276729</td>\n",
              "      <td>0521795028</td>\n",
              "      <td>6</td>\n",
              "      <td>The Amsterdam Connection : Level 4 (Cambridge ...</td>\n",
              "      <td>Sue Leather</td>\n",
              "      <td>2001</td>\n",
              "      <td>Cambridge University Press</td>\n",
              "      <td>http://images.amazon.com/images/P/0521795028.0...</td>\n",
              "      <td>http://images.amazon.com/images/P/0521795028.0...</td>\n",
              "      <td>http://images.amazon.com/images/P/0521795028.0...</td>\n",
              "      <td>rijeka, n/a, croatia</td>\n",
              "      <td>16</td>\n",
              "    </tr>\n",
              "    <tr>\n",
              "      <th>3</th>\n",
              "      <td>276744</td>\n",
              "      <td>038550120X</td>\n",
              "      <td>7</td>\n",
              "      <td>A Painted House</td>\n",
              "      <td>JOHN GRISHAM</td>\n",
              "      <td>2001</td>\n",
              "      <td>Doubleday</td>\n",
              "      <td>http://images.amazon.com/images/P/038550120X.0...</td>\n",
              "      <td>http://images.amazon.com/images/P/038550120X.0...</td>\n",
              "      <td>http://images.amazon.com/images/P/038550120X.0...</td>\n",
              "      <td>torrance, california, usa</td>\n",
              "      <td>32</td>\n",
              "    </tr>\n",
              "    <tr>\n",
              "      <th>4</th>\n",
              "      <td>276747</td>\n",
              "      <td>0060517794</td>\n",
              "      <td>9</td>\n",
              "      <td>Little Altars Everywhere</td>\n",
              "      <td>Rebecca Wells</td>\n",
              "      <td>2003</td>\n",
              "      <td>HarperTorch</td>\n",
              "      <td>http://images.amazon.com/images/P/0060517794.0...</td>\n",
              "      <td>http://images.amazon.com/images/P/0060517794.0...</td>\n",
              "      <td>http://images.amazon.com/images/P/0060517794.0...</td>\n",
              "      <td>iowa city, iowa, usa</td>\n",
              "      <td>25</td>\n",
              "    </tr>\n",
              "  </tbody>\n",
              "</table>\n",
              "</div>\n",
              "    <div class=\"colab-df-buttons\">\n",
              "\n",
              "  <div class=\"colab-df-container\">\n",
              "    <button class=\"colab-df-convert\" onclick=\"convertToInteractive('df-7d196d97-0034-4b02-8818-5fadac7b8120')\"\n",
              "            title=\"Convert this dataframe to an interactive table.\"\n",
              "            style=\"display:none;\">\n",
              "\n",
              "  <svg xmlns=\"http://www.w3.org/2000/svg\" height=\"24px\" viewBox=\"0 -960 960 960\">\n",
              "    <path d=\"M120-120v-720h720v720H120Zm60-500h600v-160H180v160Zm220 220h160v-160H400v160Zm0 220h160v-160H400v160ZM180-400h160v-160H180v160Zm440 0h160v-160H620v160ZM180-180h160v-160H180v160Zm440 0h160v-160H620v160Z\"/>\n",
              "  </svg>\n",
              "    </button>\n",
              "\n",
              "  <style>\n",
              "    .colab-df-container {\n",
              "      display:flex;\n",
              "      gap: 12px;\n",
              "    }\n",
              "\n",
              "    .colab-df-convert {\n",
              "      background-color: #E8F0FE;\n",
              "      border: none;\n",
              "      border-radius: 50%;\n",
              "      cursor: pointer;\n",
              "      display: none;\n",
              "      fill: #1967D2;\n",
              "      height: 32px;\n",
              "      padding: 0 0 0 0;\n",
              "      width: 32px;\n",
              "    }\n",
              "\n",
              "    .colab-df-convert:hover {\n",
              "      background-color: #E2EBFA;\n",
              "      box-shadow: 0px 1px 2px rgba(60, 64, 67, 0.3), 0px 1px 3px 1px rgba(60, 64, 67, 0.15);\n",
              "      fill: #174EA6;\n",
              "    }\n",
              "\n",
              "    .colab-df-buttons div {\n",
              "      margin-bottom: 4px;\n",
              "    }\n",
              "\n",
              "    [theme=dark] .colab-df-convert {\n",
              "      background-color: #3B4455;\n",
              "      fill: #D2E3FC;\n",
              "    }\n",
              "\n",
              "    [theme=dark] .colab-df-convert:hover {\n",
              "      background-color: #434B5C;\n",
              "      box-shadow: 0px 1px 3px 1px rgba(0, 0, 0, 0.15);\n",
              "      filter: drop-shadow(0px 1px 2px rgba(0, 0, 0, 0.3));\n",
              "      fill: #FFFFFF;\n",
              "    }\n",
              "  </style>\n",
              "\n",
              "    <script>\n",
              "      const buttonEl =\n",
              "        document.querySelector('#df-7d196d97-0034-4b02-8818-5fadac7b8120 button.colab-df-convert');\n",
              "      buttonEl.style.display =\n",
              "        google.colab.kernel.accessAllowed ? 'block' : 'none';\n",
              "\n",
              "      async function convertToInteractive(key) {\n",
              "        const element = document.querySelector('#df-7d196d97-0034-4b02-8818-5fadac7b8120');\n",
              "        const dataTable =\n",
              "          await google.colab.kernel.invokeFunction('convertToInteractive',\n",
              "                                                    [key], {});\n",
              "        if (!dataTable) return;\n",
              "\n",
              "        const docLinkHtml = 'Like what you see? Visit the ' +\n",
              "          '<a target=\"_blank\" href=https://colab.research.google.com/notebooks/data_table.ipynb>data table notebook</a>'\n",
              "          + ' to learn more about interactive tables.';\n",
              "        element.innerHTML = '';\n",
              "        dataTable['output_type'] = 'display_data';\n",
              "        await google.colab.output.renderOutput(dataTable, element);\n",
              "        const docLink = document.createElement('div');\n",
              "        docLink.innerHTML = docLinkHtml;\n",
              "        element.appendChild(docLink);\n",
              "      }\n",
              "    </script>\n",
              "  </div>\n",
              "\n",
              "\n",
              "    <div id=\"df-4e65db72-7106-4ac2-8f93-9b6a41d7003a\">\n",
              "      <button class=\"colab-df-quickchart\" onclick=\"quickchart('df-4e65db72-7106-4ac2-8f93-9b6a41d7003a')\"\n",
              "                title=\"Suggest charts\"\n",
              "                style=\"display:none;\">\n",
              "\n",
              "<svg xmlns=\"http://www.w3.org/2000/svg\" height=\"24px\"viewBox=\"0 0 24 24\"\n",
              "     width=\"24px\">\n",
              "    <g>\n",
              "        <path d=\"M19 3H5c-1.1 0-2 .9-2 2v14c0 1.1.9 2 2 2h14c1.1 0 2-.9 2-2V5c0-1.1-.9-2-2-2zM9 17H7v-7h2v7zm4 0h-2V7h2v10zm4 0h-2v-4h2v4z\"/>\n",
              "    </g>\n",
              "</svg>\n",
              "      </button>\n",
              "\n",
              "<style>\n",
              "  .colab-df-quickchart {\n",
              "      --bg-color: #E8F0FE;\n",
              "      --fill-color: #1967D2;\n",
              "      --hover-bg-color: #E2EBFA;\n",
              "      --hover-fill-color: #174EA6;\n",
              "      --disabled-fill-color: #AAA;\n",
              "      --disabled-bg-color: #DDD;\n",
              "  }\n",
              "\n",
              "  [theme=dark] .colab-df-quickchart {\n",
              "      --bg-color: #3B4455;\n",
              "      --fill-color: #D2E3FC;\n",
              "      --hover-bg-color: #434B5C;\n",
              "      --hover-fill-color: #FFFFFF;\n",
              "      --disabled-bg-color: #3B4455;\n",
              "      --disabled-fill-color: #666;\n",
              "  }\n",
              "\n",
              "  .colab-df-quickchart {\n",
              "    background-color: var(--bg-color);\n",
              "    border: none;\n",
              "    border-radius: 50%;\n",
              "    cursor: pointer;\n",
              "    display: none;\n",
              "    fill: var(--fill-color);\n",
              "    height: 32px;\n",
              "    padding: 0;\n",
              "    width: 32px;\n",
              "  }\n",
              "\n",
              "  .colab-df-quickchart:hover {\n",
              "    background-color: var(--hover-bg-color);\n",
              "    box-shadow: 0 1px 2px rgba(60, 64, 67, 0.3), 0 1px 3px 1px rgba(60, 64, 67, 0.15);\n",
              "    fill: var(--button-hover-fill-color);\n",
              "  }\n",
              "\n",
              "  .colab-df-quickchart-complete:disabled,\n",
              "  .colab-df-quickchart-complete:disabled:hover {\n",
              "    background-color: var(--disabled-bg-color);\n",
              "    fill: var(--disabled-fill-color);\n",
              "    box-shadow: none;\n",
              "  }\n",
              "\n",
              "  .colab-df-spinner {\n",
              "    border: 2px solid var(--fill-color);\n",
              "    border-color: transparent;\n",
              "    border-bottom-color: var(--fill-color);\n",
              "    animation:\n",
              "      spin 1s steps(1) infinite;\n",
              "  }\n",
              "\n",
              "  @keyframes spin {\n",
              "    0% {\n",
              "      border-color: transparent;\n",
              "      border-bottom-color: var(--fill-color);\n",
              "      border-left-color: var(--fill-color);\n",
              "    }\n",
              "    20% {\n",
              "      border-color: transparent;\n",
              "      border-left-color: var(--fill-color);\n",
              "      border-top-color: var(--fill-color);\n",
              "    }\n",
              "    30% {\n",
              "      border-color: transparent;\n",
              "      border-left-color: var(--fill-color);\n",
              "      border-top-color: var(--fill-color);\n",
              "      border-right-color: var(--fill-color);\n",
              "    }\n",
              "    40% {\n",
              "      border-color: transparent;\n",
              "      border-right-color: var(--fill-color);\n",
              "      border-top-color: var(--fill-color);\n",
              "    }\n",
              "    60% {\n",
              "      border-color: transparent;\n",
              "      border-right-color: var(--fill-color);\n",
              "    }\n",
              "    80% {\n",
              "      border-color: transparent;\n",
              "      border-right-color: var(--fill-color);\n",
              "      border-bottom-color: var(--fill-color);\n",
              "    }\n",
              "    90% {\n",
              "      border-color: transparent;\n",
              "      border-bottom-color: var(--fill-color);\n",
              "    }\n",
              "  }\n",
              "</style>\n",
              "\n",
              "      <script>\n",
              "        async function quickchart(key) {\n",
              "          const quickchartButtonEl =\n",
              "            document.querySelector('#' + key + ' button');\n",
              "          quickchartButtonEl.disabled = true;  // To prevent multiple clicks.\n",
              "          quickchartButtonEl.classList.add('colab-df-spinner');\n",
              "          try {\n",
              "            const charts = await google.colab.kernel.invokeFunction(\n",
              "                'suggestCharts', [key], {});\n",
              "          } catch (error) {\n",
              "            console.error('Error during call to suggestCharts:', error);\n",
              "          }\n",
              "          quickchartButtonEl.classList.remove('colab-df-spinner');\n",
              "          quickchartButtonEl.classList.add('colab-df-quickchart-complete');\n",
              "        }\n",
              "        (() => {\n",
              "          let quickchartButtonEl =\n",
              "            document.querySelector('#df-4e65db72-7106-4ac2-8f93-9b6a41d7003a button');\n",
              "          quickchartButtonEl.style.display =\n",
              "            google.colab.kernel.accessAllowed ? 'block' : 'none';\n",
              "        })();\n",
              "      </script>\n",
              "    </div>\n",
              "\n",
              "    </div>\n",
              "  </div>\n"
            ],
            "application/vnd.google.colaboratory.intrinsic+json": {
              "type": "dataframe",
              "variable_name": "final_df"
            }
          },
          "metadata": {},
          "execution_count": 23
        }
      ]
    },
    {
      "cell_type": "markdown",
      "source": [
        "## 5. Modeling and Result (Collaborative Filtering)"
      ],
      "metadata": {
        "id": "jtEpDp3oih_m"
      }
    },
    {
      "cell_type": "code",
      "source": [
        "# --- Tambahan: Verifikasi Ukuran Final DataFrame ---\n",
        "print(\"\\n--- Verifikasi Ukuran `final_df` sebelum Modeling ---\")\n",
        "print(f\"Shape final_df: {final_df.shape}\")\n",
        "print(f\"Jumlah User unik di final_df: {final_df['user_id'].nunique()}\")\n",
        "print(f\"Jumlah Buku unik di final_df: {final_df['item_id'].nunique()}\")\n",
        "print(f\"Penggunaan memori final_df: {final_df.memory_usage(deep=True).sum() / (1024**2):.2f} MB\")"
      ],
      "metadata": {
        "colab": {
          "base_uri": "https://localhost:8080/"
        },
        "id": "DdUrDXk8wRr7",
        "outputId": "5644de5b-7d75-4958-baee-ea7588dbaee2"
      },
      "execution_count": null,
      "outputs": [
        {
          "output_type": "stream",
          "name": "stdout",
          "text": [
            "\n",
            "--- Verifikasi Ukuran `final_df` sebelum Modeling ---\n",
            "Shape final_df: (383837, 12)\n",
            "Jumlah User unik di final_df: 68091\n",
            "Jumlah Buku unik di final_df: 149831\n",
            "Penggunaan memori final_df: 280.53 MB\n"
          ]
        }
      ]
    },
    {
      "cell_type": "code",
      "source": [
        "# Ukuran embedding (bisa disesuaikan)\n",
        "EMBEDDING_SIZE = 50\n",
        "\n",
        "# Input Layer untuk User dan Book\n",
        "user_input = Input(shape=(1,), name='user_input')\n",
        "book_input = Input(shape=(1,), name='book_input')\n",
        "\n",
        "# Embedding Layer untuk User\n",
        "user_embedding = Embedding(num_users, EMBEDDING_SIZE, name='user_embedding')(user_input)\n",
        "user_vec = Flatten(name='user_flatten')(user_embedding)\n",
        "\n",
        "# Embedding Layer untuk Book\n",
        "book_embedding = Embedding(num_books, EMBEDDING_SIZE, name='book_embedding')(book_input)\n",
        "book_vec = Flatten(name='book_flatten')(book_embedding)\n",
        "\n",
        "# Dot product dari embedding user dan book\n",
        "prod = Dot(axes=1, name='dot_product')([user_vec, book_vec])\n",
        "\n",
        "# Model Output\n",
        "output = Dense(1, activation='linear', name='output_rating')(prod)\n",
        "\n",
        "# Buat model\n",
        "model = Model(inputs=[user_input, book_input], outputs=output)\n",
        "\n",
        "# Compile model\n",
        "# Menggunakan Adam optimizer dan MSE (Mean Squared Error) sebagai loss function\n",
        "# Metrik yang digunakan adalah RMSE (Root Mean Squared Error)\n",
        "model.compile(optimizer=Adam(learning_rate=0.001), loss='mean_squared_error', metrics=[tf.keras.metrics.RootMeanSquaredError()])\n",
        "\n",
        "# Menampilkan ringkasan model\n",
        "model.summary()"
      ],
      "metadata": {
        "colab": {
          "base_uri": "https://localhost:8080/",
          "height": 544
        },
        "id": "KrJgoWJKEAWb",
        "outputId": "97cc7ec8-30ef-4314-ef9b-83f7792380c5"
      },
      "execution_count": null,
      "outputs": [
        {
          "output_type": "display_data",
          "data": {
            "text/plain": [
              "\u001b[1mModel: \"functional\"\u001b[0m\n"
            ],
            "text/html": [
              "<pre style=\"white-space:pre;overflow-x:auto;line-height:normal;font-family:Menlo,'DejaVu Sans Mono',consolas,'Courier New',monospace\"><span style=\"font-weight: bold\">Model: \"functional\"</span>\n",
              "</pre>\n"
            ]
          },
          "metadata": {}
        },
        {
          "output_type": "display_data",
          "data": {
            "text/plain": [
              "┏━━━━━━━━━━━━━━━━━━━━━┳━━━━━━━━━━━━━━━━━━━┳━━━━━━━━━━━━┳━━━━━━━━━━━━━━━━━━━┓\n",
              "┃\u001b[1m \u001b[0m\u001b[1mLayer (type)       \u001b[0m\u001b[1m \u001b[0m┃\u001b[1m \u001b[0m\u001b[1mOutput Shape     \u001b[0m\u001b[1m \u001b[0m┃\u001b[1m \u001b[0m\u001b[1m   Param #\u001b[0m\u001b[1m \u001b[0m┃\u001b[1m \u001b[0m\u001b[1mConnected to     \u001b[0m\u001b[1m \u001b[0m┃\n",
              "┡━━━━━━━━━━━━━━━━━━━━━╇━━━━━━━━━━━━━━━━━━━╇━━━━━━━━━━━━╇━━━━━━━━━━━━━━━━━━━┩\n",
              "│ user_input          │ (\u001b[38;5;45mNone\u001b[0m, \u001b[38;5;34m1\u001b[0m)         │          \u001b[38;5;34m0\u001b[0m │ -                 │\n",
              "│ (\u001b[38;5;33mInputLayer\u001b[0m)        │                   │            │                   │\n",
              "├─────────────────────┼───────────────────┼────────────┼───────────────────┤\n",
              "│ book_input          │ (\u001b[38;5;45mNone\u001b[0m, \u001b[38;5;34m1\u001b[0m)         │          \u001b[38;5;34m0\u001b[0m │ -                 │\n",
              "│ (\u001b[38;5;33mInputLayer\u001b[0m)        │                   │            │                   │\n",
              "├─────────────────────┼───────────────────┼────────────┼───────────────────┤\n",
              "│ user_embedding      │ (\u001b[38;5;45mNone\u001b[0m, \u001b[38;5;34m1\u001b[0m, \u001b[38;5;34m50\u001b[0m)     │  \u001b[38;5;34m3,404,550\u001b[0m │ user_input[\u001b[38;5;34m0\u001b[0m][\u001b[38;5;34m0\u001b[0m]  │\n",
              "│ (\u001b[38;5;33mEmbedding\u001b[0m)         │                   │            │                   │\n",
              "├─────────────────────┼───────────────────┼────────────┼───────────────────┤\n",
              "│ book_embedding      │ (\u001b[38;5;45mNone\u001b[0m, \u001b[38;5;34m1\u001b[0m, \u001b[38;5;34m50\u001b[0m)     │  \u001b[38;5;34m7,491,550\u001b[0m │ book_input[\u001b[38;5;34m0\u001b[0m][\u001b[38;5;34m0\u001b[0m]  │\n",
              "│ (\u001b[38;5;33mEmbedding\u001b[0m)         │                   │            │                   │\n",
              "├─────────────────────┼───────────────────┼────────────┼───────────────────┤\n",
              "│ user_flatten        │ (\u001b[38;5;45mNone\u001b[0m, \u001b[38;5;34m50\u001b[0m)        │          \u001b[38;5;34m0\u001b[0m │ user_embedding[\u001b[38;5;34m0\u001b[0m… │\n",
              "│ (\u001b[38;5;33mFlatten\u001b[0m)           │                   │            │                   │\n",
              "├─────────────────────┼───────────────────┼────────────┼───────────────────┤\n",
              "│ book_flatten        │ (\u001b[38;5;45mNone\u001b[0m, \u001b[38;5;34m50\u001b[0m)        │          \u001b[38;5;34m0\u001b[0m │ book_embedding[\u001b[38;5;34m0\u001b[0m… │\n",
              "│ (\u001b[38;5;33mFlatten\u001b[0m)           │                   │            │                   │\n",
              "├─────────────────────┼───────────────────┼────────────┼───────────────────┤\n",
              "│ dot_product (\u001b[38;5;33mDot\u001b[0m)   │ (\u001b[38;5;45mNone\u001b[0m, \u001b[38;5;34m1\u001b[0m)         │          \u001b[38;5;34m0\u001b[0m │ user_flatten[\u001b[38;5;34m0\u001b[0m][\u001b[38;5;34m…\u001b[0m │\n",
              "│                     │                   │            │ book_flatten[\u001b[38;5;34m0\u001b[0m][\u001b[38;5;34m…\u001b[0m │\n",
              "├─────────────────────┼───────────────────┼────────────┼───────────────────┤\n",
              "│ output_rating       │ (\u001b[38;5;45mNone\u001b[0m, \u001b[38;5;34m1\u001b[0m)         │          \u001b[38;5;34m2\u001b[0m │ dot_product[\u001b[38;5;34m0\u001b[0m][\u001b[38;5;34m0\u001b[0m] │\n",
              "│ (\u001b[38;5;33mDense\u001b[0m)             │                   │            │                   │\n",
              "└─────────────────────┴───────────────────┴────────────┴───────────────────┘\n"
            ],
            "text/html": [
              "<pre style=\"white-space:pre;overflow-x:auto;line-height:normal;font-family:Menlo,'DejaVu Sans Mono',consolas,'Courier New',monospace\">┏━━━━━━━━━━━━━━━━━━━━━┳━━━━━━━━━━━━━━━━━━━┳━━━━━━━━━━━━┳━━━━━━━━━━━━━━━━━━━┓\n",
              "┃<span style=\"font-weight: bold\"> Layer (type)        </span>┃<span style=\"font-weight: bold\"> Output Shape      </span>┃<span style=\"font-weight: bold\">    Param # </span>┃<span style=\"font-weight: bold\"> Connected to      </span>┃\n",
              "┡━━━━━━━━━━━━━━━━━━━━━╇━━━━━━━━━━━━━━━━━━━╇━━━━━━━━━━━━╇━━━━━━━━━━━━━━━━━━━┩\n",
              "│ user_input          │ (<span style=\"color: #00d7ff; text-decoration-color: #00d7ff\">None</span>, <span style=\"color: #00af00; text-decoration-color: #00af00\">1</span>)         │          <span style=\"color: #00af00; text-decoration-color: #00af00\">0</span> │ -                 │\n",
              "│ (<span style=\"color: #0087ff; text-decoration-color: #0087ff\">InputLayer</span>)        │                   │            │                   │\n",
              "├─────────────────────┼───────────────────┼────────────┼───────────────────┤\n",
              "│ book_input          │ (<span style=\"color: #00d7ff; text-decoration-color: #00d7ff\">None</span>, <span style=\"color: #00af00; text-decoration-color: #00af00\">1</span>)         │          <span style=\"color: #00af00; text-decoration-color: #00af00\">0</span> │ -                 │\n",
              "│ (<span style=\"color: #0087ff; text-decoration-color: #0087ff\">InputLayer</span>)        │                   │            │                   │\n",
              "├─────────────────────┼───────────────────┼────────────┼───────────────────┤\n",
              "│ user_embedding      │ (<span style=\"color: #00d7ff; text-decoration-color: #00d7ff\">None</span>, <span style=\"color: #00af00; text-decoration-color: #00af00\">1</span>, <span style=\"color: #00af00; text-decoration-color: #00af00\">50</span>)     │  <span style=\"color: #00af00; text-decoration-color: #00af00\">3,404,550</span> │ user_input[<span style=\"color: #00af00; text-decoration-color: #00af00\">0</span>][<span style=\"color: #00af00; text-decoration-color: #00af00\">0</span>]  │\n",
              "│ (<span style=\"color: #0087ff; text-decoration-color: #0087ff\">Embedding</span>)         │                   │            │                   │\n",
              "├─────────────────────┼───────────────────┼────────────┼───────────────────┤\n",
              "│ book_embedding      │ (<span style=\"color: #00d7ff; text-decoration-color: #00d7ff\">None</span>, <span style=\"color: #00af00; text-decoration-color: #00af00\">1</span>, <span style=\"color: #00af00; text-decoration-color: #00af00\">50</span>)     │  <span style=\"color: #00af00; text-decoration-color: #00af00\">7,491,550</span> │ book_input[<span style=\"color: #00af00; text-decoration-color: #00af00\">0</span>][<span style=\"color: #00af00; text-decoration-color: #00af00\">0</span>]  │\n",
              "│ (<span style=\"color: #0087ff; text-decoration-color: #0087ff\">Embedding</span>)         │                   │            │                   │\n",
              "├─────────────────────┼───────────────────┼────────────┼───────────────────┤\n",
              "│ user_flatten        │ (<span style=\"color: #00d7ff; text-decoration-color: #00d7ff\">None</span>, <span style=\"color: #00af00; text-decoration-color: #00af00\">50</span>)        │          <span style=\"color: #00af00; text-decoration-color: #00af00\">0</span> │ user_embedding[<span style=\"color: #00af00; text-decoration-color: #00af00\">0</span>… │\n",
              "│ (<span style=\"color: #0087ff; text-decoration-color: #0087ff\">Flatten</span>)           │                   │            │                   │\n",
              "├─────────────────────┼───────────────────┼────────────┼───────────────────┤\n",
              "│ book_flatten        │ (<span style=\"color: #00d7ff; text-decoration-color: #00d7ff\">None</span>, <span style=\"color: #00af00; text-decoration-color: #00af00\">50</span>)        │          <span style=\"color: #00af00; text-decoration-color: #00af00\">0</span> │ book_embedding[<span style=\"color: #00af00; text-decoration-color: #00af00\">0</span>… │\n",
              "│ (<span style=\"color: #0087ff; text-decoration-color: #0087ff\">Flatten</span>)           │                   │            │                   │\n",
              "├─────────────────────┼───────────────────┼────────────┼───────────────────┤\n",
              "│ dot_product (<span style=\"color: #0087ff; text-decoration-color: #0087ff\">Dot</span>)   │ (<span style=\"color: #00d7ff; text-decoration-color: #00d7ff\">None</span>, <span style=\"color: #00af00; text-decoration-color: #00af00\">1</span>)         │          <span style=\"color: #00af00; text-decoration-color: #00af00\">0</span> │ user_flatten[<span style=\"color: #00af00; text-decoration-color: #00af00\">0</span>][<span style=\"color: #00af00; text-decoration-color: #00af00\">…</span> │\n",
              "│                     │                   │            │ book_flatten[<span style=\"color: #00af00; text-decoration-color: #00af00\">0</span>][<span style=\"color: #00af00; text-decoration-color: #00af00\">…</span> │\n",
              "├─────────────────────┼───────────────────┼────────────┼───────────────────┤\n",
              "│ output_rating       │ (<span style=\"color: #00d7ff; text-decoration-color: #00d7ff\">None</span>, <span style=\"color: #00af00; text-decoration-color: #00af00\">1</span>)         │          <span style=\"color: #00af00; text-decoration-color: #00af00\">2</span> │ dot_product[<span style=\"color: #00af00; text-decoration-color: #00af00\">0</span>][<span style=\"color: #00af00; text-decoration-color: #00af00\">0</span>] │\n",
              "│ (<span style=\"color: #0087ff; text-decoration-color: #0087ff\">Dense</span>)             │                   │            │                   │\n",
              "└─────────────────────┴───────────────────┴────────────┴───────────────────┘\n",
              "</pre>\n"
            ]
          },
          "metadata": {}
        },
        {
          "output_type": "display_data",
          "data": {
            "text/plain": [
              "\u001b[1m Total params: \u001b[0m\u001b[38;5;34m10,896,102\u001b[0m (41.57 MB)\n"
            ],
            "text/html": [
              "<pre style=\"white-space:pre;overflow-x:auto;line-height:normal;font-family:Menlo,'DejaVu Sans Mono',consolas,'Courier New',monospace\"><span style=\"font-weight: bold\"> Total params: </span><span style=\"color: #00af00; text-decoration-color: #00af00\">10,896,102</span> (41.57 MB)\n",
              "</pre>\n"
            ]
          },
          "metadata": {}
        },
        {
          "output_type": "display_data",
          "data": {
            "text/plain": [
              "\u001b[1m Trainable params: \u001b[0m\u001b[38;5;34m10,896,102\u001b[0m (41.57 MB)\n"
            ],
            "text/html": [
              "<pre style=\"white-space:pre;overflow-x:auto;line-height:normal;font-family:Menlo,'DejaVu Sans Mono',consolas,'Courier New',monospace\"><span style=\"font-weight: bold\"> Trainable params: </span><span style=\"color: #00af00; text-decoration-color: #00af00\">10,896,102</span> (41.57 MB)\n",
              "</pre>\n"
            ]
          },
          "metadata": {}
        },
        {
          "output_type": "display_data",
          "data": {
            "text/plain": [
              "\u001b[1m Non-trainable params: \u001b[0m\u001b[38;5;34m0\u001b[0m (0.00 B)\n"
            ],
            "text/html": [
              "<pre style=\"white-space:pre;overflow-x:auto;line-height:normal;font-family:Menlo,'DejaVu Sans Mono',consolas,'Courier New',monospace\"><span style=\"font-weight: bold\"> Non-trainable params: </span><span style=\"color: #00af00; text-decoration-color: #00af00\">0</span> (0.00 B)\n",
              "</pre>\n"
            ]
          },
          "metadata": {}
        }
      ]
    },
    {
      "cell_type": "code",
      "source": [
        "# Pisahkan input untuk model\n",
        "train_user_encoded = X_train[:, 0]\n",
        "train_book_encoded = X_train[:, 1]\n",
        "val_user_encoded = X_val[:, 0]\n",
        "val_book_encoded = X_val[:, 1]\n",
        "\n",
        "# Callbacks untuk Early Stopping\n",
        "early_stopping = EarlyStopping(monitor='val_root_mean_squared_error', patience=5, restore_best_weights=True)\n",
        "\n",
        "# Latih model\n",
        "history = model.fit(\n",
        "    [train_user_encoded, train_book_encoded],\n",
        "    y_train,\n",
        "    epochs=20,\n",
        "    batch_size=64,\n",
        "    validation_data=([val_user_encoded, val_book_encoded], y_val),\n",
        "    callbacks=[early_stopping],\n",
        "    verbose=1\n",
        ")"
      ],
      "metadata": {
        "colab": {
          "base_uri": "https://localhost:8080/"
        },
        "id": "qFfZLHxIEE4Y",
        "outputId": "b14224bb-cf19-43b5-e7fd-048a90de19a7"
      },
      "execution_count": null,
      "outputs": [
        {
          "output_type": "stream",
          "name": "stdout",
          "text": [
            "Epoch 1/20\n",
            "\u001b[1m4798/4798\u001b[0m \u001b[32m━━━━━━━━━━━━━━━━━━━━\u001b[0m\u001b[37m\u001b[0m \u001b[1m613s\u001b[0m 127ms/step - loss: 46.3660 - root_mean_squared_error: 6.7844 - val_loss: 12.6952 - val_root_mean_squared_error: 3.5630\n",
            "Epoch 2/20\n",
            "\u001b[1m4798/4798\u001b[0m \u001b[32m━━━━━━━━━━━━━━━━━━━━\u001b[0m\u001b[37m\u001b[0m \u001b[1m594s\u001b[0m 124ms/step - loss: 6.4670 - root_mean_squared_error: 2.5278 - val_loss: 4.3533 - val_root_mean_squared_error: 2.0865\n",
            "Epoch 3/20\n",
            "\u001b[1m4798/4798\u001b[0m \u001b[32m━━━━━━━━━━━━━━━━━━━━\u001b[0m\u001b[37m\u001b[0m \u001b[1m628s\u001b[0m 125ms/step - loss: 1.3089 - root_mean_squared_error: 1.1440 - val_loss: 5.2856 - val_root_mean_squared_error: 2.2990\n",
            "Epoch 4/20\n",
            "\u001b[1m4798/4798\u001b[0m \u001b[32m━━━━━━━━━━━━━━━━━━━━\u001b[0m\u001b[37m\u001b[0m \u001b[1m606s\u001b[0m 126ms/step - loss: 0.5223 - root_mean_squared_error: 0.7226 - val_loss: 4.7701 - val_root_mean_squared_error: 2.1841\n",
            "Epoch 5/20\n",
            "\u001b[1m4798/4798\u001b[0m \u001b[32m━━━━━━━━━━━━━━━━━━━━\u001b[0m\u001b[37m\u001b[0m \u001b[1m612s\u001b[0m 124ms/step - loss: 0.4455 - root_mean_squared_error: 0.6674 - val_loss: 4.5416 - val_root_mean_squared_error: 2.1311\n",
            "Epoch 6/20\n",
            "\u001b[1m4798/4798\u001b[0m \u001b[32m━━━━━━━━━━━━━━━━━━━━\u001b[0m\u001b[37m\u001b[0m \u001b[1m620s\u001b[0m 124ms/step - loss: 0.3537 - root_mean_squared_error: 0.5946 - val_loss: 4.2518 - val_root_mean_squared_error: 2.0620\n",
            "Epoch 7/20\n",
            "\u001b[1m4798/4798\u001b[0m \u001b[32m━━━━━━━━━━━━━━━━━━━━\u001b[0m\u001b[37m\u001b[0m \u001b[1m650s\u001b[0m 129ms/step - loss: 0.3049 - root_mean_squared_error: 0.5522 - val_loss: 4.0886 - val_root_mean_squared_error: 2.0220\n",
            "Epoch 8/20\n",
            "\u001b[1m4798/4798\u001b[0m \u001b[32m━━━━━━━━━━━━━━━━━━━━\u001b[0m\u001b[37m\u001b[0m \u001b[1m594s\u001b[0m 124ms/step - loss: 0.2628 - root_mean_squared_error: 0.5126 - val_loss: 3.9716 - val_root_mean_squared_error: 1.9929\n",
            "Epoch 9/20\n",
            "\u001b[1m4798/4798\u001b[0m \u001b[32m━━━━━━━━━━━━━━━━━━━━\u001b[0m\u001b[37m\u001b[0m \u001b[1m634s\u001b[0m 126ms/step - loss: 0.2372 - root_mean_squared_error: 0.4870 - val_loss: 3.8718 - val_root_mean_squared_error: 1.9677\n",
            "Epoch 10/20\n",
            "\u001b[1m4798/4798\u001b[0m \u001b[32m━━━━━━━━━━━━━━━━━━━━\u001b[0m\u001b[37m\u001b[0m \u001b[1m599s\u001b[0m 121ms/step - loss: 0.2096 - root_mean_squared_error: 0.4578 - val_loss: 3.8104 - val_root_mean_squared_error: 1.9520\n",
            "Epoch 11/20\n",
            "\u001b[1m4798/4798\u001b[0m \u001b[32m━━━━━━━━━━━━━━━━━━━━\u001b[0m\u001b[37m\u001b[0m \u001b[1m634s\u001b[0m 132ms/step - loss: 0.1961 - root_mean_squared_error: 0.4427 - val_loss: 3.7539 - val_root_mean_squared_error: 1.9375\n",
            "Epoch 12/20\n",
            "\u001b[1m4798/4798\u001b[0m \u001b[32m━━━━━━━━━━━━━━━━━━━━\u001b[0m\u001b[37m\u001b[0m \u001b[1m658s\u001b[0m 127ms/step - loss: 0.1771 - root_mean_squared_error: 0.4208 - val_loss: 3.7087 - val_root_mean_squared_error: 1.9258\n",
            "Epoch 13/20\n",
            "\u001b[1m4798/4798\u001b[0m \u001b[32m━━━━━━━━━━━━━━━━━━━━\u001b[0m\u001b[37m\u001b[0m \u001b[1m629s\u001b[0m 129ms/step - loss: 0.1657 - root_mean_squared_error: 0.4070 - val_loss: 3.6854 - val_root_mean_squared_error: 1.9197\n",
            "Epoch 14/20\n",
            "\u001b[1m4798/4798\u001b[0m \u001b[32m━━━━━━━━━━━━━━━━━━━━\u001b[0m\u001b[37m\u001b[0m \u001b[1m625s\u001b[0m 129ms/step - loss: 0.1535 - root_mean_squared_error: 0.3918 - val_loss: 3.6505 - val_root_mean_squared_error: 1.9106\n",
            "Epoch 15/20\n",
            "\u001b[1m4798/4798\u001b[0m \u001b[32m━━━━━━━━━━━━━━━━━━━━\u001b[0m\u001b[37m\u001b[0m \u001b[1m612s\u001b[0m 127ms/step - loss: 0.1451 - root_mean_squared_error: 0.3809 - val_loss: 3.6253 - val_root_mean_squared_error: 1.9040\n",
            "Epoch 16/20\n",
            "\u001b[1m4798/4798\u001b[0m \u001b[32m━━━━━━━━━━━━━━━━━━━━\u001b[0m\u001b[37m\u001b[0m \u001b[1m621s\u001b[0m 127ms/step - loss: 0.1357 - root_mean_squared_error: 0.3684 - val_loss: 3.5976 - val_root_mean_squared_error: 1.8967\n",
            "Epoch 17/20\n",
            "\u001b[1m4798/4798\u001b[0m \u001b[32m━━━━━━━━━━━━━━━━━━━━\u001b[0m\u001b[37m\u001b[0m \u001b[1m623s\u001b[0m 127ms/step - loss: 0.1300 - root_mean_squared_error: 0.3605 - val_loss: 3.5891 - val_root_mean_squared_error: 1.8945\n",
            "Epoch 18/20\n",
            "\u001b[1m4798/4798\u001b[0m \u001b[32m━━━━━━━━━━━━━━━━━━━━\u001b[0m\u001b[37m\u001b[0m \u001b[1m613s\u001b[0m 128ms/step - loss: 0.1214 - root_mean_squared_error: 0.3484 - val_loss: 3.5619 - val_root_mean_squared_error: 1.8873\n",
            "Epoch 19/20\n",
            "\u001b[1m4798/4798\u001b[0m \u001b[32m━━━━━━━━━━━━━━━━━━━━\u001b[0m\u001b[37m\u001b[0m \u001b[1m617s\u001b[0m 129ms/step - loss: 0.1171 - root_mean_squared_error: 0.3422 - val_loss: 3.5576 - val_root_mean_squared_error: 1.8862\n",
            "Epoch 20/20\n",
            "\u001b[1m4798/4798\u001b[0m \u001b[32m━━━━━━━━━━━━━━━━━━━━\u001b[0m\u001b[37m\u001b[0m \u001b[1m642s\u001b[0m 133ms/step - loss: 0.1109 - root_mean_squared_error: 0.3330 - val_loss: 3.5460 - val_root_mean_squared_error: 1.8831\n"
          ]
        }
      ]
    },
    {
      "cell_type": "markdown",
      "source": [
        "- Output menampilkan ringkasan arsitektur model. Model ini memiliki total 10,896,102 parameter yang dapat dilatih, sebagian besar berasal dari embedding layer untuk pengguna dan buku. Model dilatih selama 20 epoch dengan batch size 64. Selama pelatihan, val_root_mean_squared_error secara bertahap menurun, mencapai 1.8831 pada epoch terakhir.\n",
        "- Insight: Arsitektur model menunjukkan implementasi collaborative filtering berbasis embedding, yang mampu menangkap pola tersembunyi dalam interaksi pengguna-buku. Penurunan val_root_mean_squared_error menunjukkan bahwa model berhasil belajar untuk memprediksi rating dengan semakin baik dan mampu menggeneralisasi pada data validasi."
      ],
      "metadata": {
        "id": "D_cKOF5QTWmm"
      }
    },
    {
      "cell_type": "code",
      "source": [
        "# Evaluasi model pada validation set\n",
        "loss, rmse = model.evaluate([val_user_encoded, val_book_encoded], y_val, verbose=0)\n",
        "print(f\"\\nRMSE pada validation set: {rmse:.4f}\")\n",
        "\n",
        "# Visualisasi Loss dan RMSE\n",
        "plt.figure(figsize=(12, 5))\n",
        "plt.subplot(1, 2, 1)\n",
        "plt.plot(history.history['loss'], label='Training Loss')\n",
        "plt.plot(history.history['val_loss'], label='Validation Loss')\n",
        "plt.title('Loss History')\n",
        "plt.xlabel('Epoch')\n",
        "plt.ylabel('Loss')\n",
        "plt.legend()\n",
        "\n",
        "plt.subplot(1, 2, 2)\n",
        "plt.plot(history.history['root_mean_squared_error'], label='Training RMSE')\n",
        "plt.plot(history.history['val_root_mean_squared_error'], label='Validation RMSE')\n",
        "plt.title('RMSE History')\n",
        "plt.xlabel('Epoch')\n",
        "plt.ylabel('RMSE')\n",
        "plt.legend()\n",
        "plt.tight_layout()\n",
        "plt.show()"
      ],
      "metadata": {
        "colab": {
          "base_uri": "https://localhost:8080/",
          "height": 542
        },
        "id": "w92Q3Ug_EZM9",
        "outputId": "a3436757-bf24-430e-d63a-572b8ac5a5d8"
      },
      "execution_count": null,
      "outputs": [
        {
          "output_type": "stream",
          "name": "stdout",
          "text": [
            "\n",
            "RMSE pada validation set: 1.8831\n"
          ]
        },
        {
          "output_type": "display_data",
          "data": {
            "text/plain": [
              "<Figure size 1200x500 with 2 Axes>"
            ],
            "image/png": "[encoded data removed]"
          },
          "metadata": {}
        }
      ]
    },
    {
      "cell_type": "markdown",
      "source": [
        "- Hasil evaluasi terakhir menunjukkan RMSE pada validation set sebesar 1.8831. Visualisasi Loss History dan RMSE History menunjukkan tren penurunan yang stabil untuk kedua metrik (loss dan RMSE) baik pada training maupun validation set seiring berjalannya epoch.\n",
        "- Insight: Nilai RMSE 1.8831 menunjukkan rata-rata selisih prediksi rating dengan rating aktual. Semakin kecil nilai ini, semakin baik modelnya. Plot menunjukkan bahwa model tidak mengalami overfitting yang parah (garis validation mengikuti garis training dengan baik), dan proses pelatihan berhenti pada titik yang optimal berkat EarlyStopping."
      ],
      "metadata": {
        "id": "-XeYITFRTb6e"
      }
    },
    {
      "cell_type": "code",
      "source": [
        "# --- Kode sebelumnya (bagian ini sudah benar, hanya untuk konteks) ---\n",
        "# Mendapatkan daftar semua buku unik\n",
        "all_book_ids = final_df['item_id'].unique()\n",
        "\n",
        "# Memilih User ID secara acak untuk mendapatkan rekomendasi\n",
        "# Pastikan user_id yang dipilih ada di data yang sudah difilter\n",
        "target_user_id = final_df['user_id'].sample(1).iloc[0]\n",
        "print(f\"\\nMencari rekomendasi untuk User-ID: {target_user_id}\")\n",
        "\n",
        "# Mendapatkan buku-buku yang sudah di-rating oleh user ini\n",
        "books_rated_by_user = final_df[final_df['user_id'] == target_user_id]['item_id'].tolist()\n",
        "\n",
        "# Mendapatkan buku-buku yang belum di-rating oleh user ini\n",
        "unrated_books = [book_id for book_id in all_book_ids if book_id not in books_rated_by_user]\n",
        "\n",
        "# Map buku yang belum di-rating ke encoded ID\n",
        "unrated_book_encoded = np.array([book_to_idx[book_id] for book_id in unrated_books])\n",
        "\n",
        "# Buat array user_encoded untuk prediksi (sesuai jumlah unrated_books)\n",
        "user_encoded_for_pred = np.array([user_to_idx[target_user_id]] * len(unrated_book_encoded))\n",
        "\n",
        "# Prediksi rating untuk buku-buku yang belum di-rating\n",
        "predicted_ratings = model.predict([user_encoded_for_pred, unrated_book_encoded]).flatten()\n",
        "\n",
        "# Buat DataFrame dari hasil prediksi\n",
        "predictions_df = pd.DataFrame({\n",
        "    'item_id': unrated_books,\n",
        "    'predicted_rating': predicted_ratings\n",
        "})\n",
        "\n",
        "# Gabungkan dengan metadata buku untuk mendapatkan judul dan penulis\n",
        "top_recommendations = predictions_df.sort_values(by='predicted_rating', ascending=False).head(10)\n",
        "# Perbaikan di sini: Ambil metadata dari df_books karena df_books yang berisi semua metadata buku,\n",
        "# dan pastikan kolom ISBN adalah kolom yang digunakan untuk merge.\n",
        "top_recommendations = pd.merge(top_recommendations, df_books[['ISBN', 'Book-Title', 'Book-Author', 'Publisher']],\n",
        "                               left_on='item_id', right_on='ISBN', how='left')\n",
        "\n",
        "# Tampilkan top 10 rekomendasi\n",
        "print(\"\\nTop 10 Rekomendasi Buku:\")\n",
        "print(top_recommendations[['Book-Title', 'Book-Author', 'predicted_rating']])\n",
        "\n",
        "# Tampilkan juga buku yang sudah di-rating oleh user tersebut untuk perbandingan\n",
        "print(f\"\\nBuku-buku yang sudah di-rating oleh User-ID {target_user_id} (untuk perbandingan):\")\n",
        "rated_books_info = final_df[final_df['user_id'] == target_user_id] # Ambil baris user_id tertentu dari final_df\n",
        "# Karena final_df sudah berisi Book-Title dan Book-Author, Anda tidak perlu merge lagi\n",
        "print(rated_books_info[['Book-Title', 'Book-Author', 'rating']].sort_values(by='rating', ascending=False).head(10))"
      ],
      "metadata": {
        "colab": {
          "base_uri": "https://localhost:8080/"
        },
        "id": "J4AL_URSEctq",
        "outputId": "db7fb498-8a52-404c-a146-c73e5e068876"
      },
      "execution_count": null,
      "outputs": [
        {
          "output_type": "stream",
          "name": "stdout",
          "text": [
            "\n",
            "Mencari rekomendasi untuk User-ID: 243360\n",
            "\u001b[1m4681/4681\u001b[0m \u001b[32m━━━━━━━━━━━━━━━━━━━━\u001b[0m\u001b[37m\u001b[0m \u001b[1m8s\u001b[0m 2ms/step\n",
            "\n",
            "Top 10 Rekomendasi Buku:\n",
            "                                          Book-Title        Book-Author  \\\n",
            "0                                The Bourne Identity      Robert Ludlum   \n",
            "1                                    Winter Solstice  Rosamunde Pilcher   \n",
            "2             A Wind in the Door (Laurel Leaf Books)  Madeleine L'Engle   \n",
            "3  The Name of the Rose: including Postscript to ...        Umberto Eco   \n",
            "4                      The Stand: Complete and Uncut       Stephen King   \n",
            "5                               A Light in the Attic   Shel Silverstein   \n",
            "6                                      Prey: A Novel   Michael Crichton   \n",
            "7                          8 Weeks to Optimum Health   Andrew Weil M.D.   \n",
            "8                                  When Rabbit Howls       Truddi Chase   \n",
            "9  Like Water for Chocolate : A Novel in Monthly ...     LAURA ESQUIVEL   \n",
            "\n",
            "   predicted_rating  \n",
            "0         10.331671  \n",
            "1          9.945624  \n",
            "2          9.739788  \n",
            "3          9.724604  \n",
            "4          9.639876  \n",
            "5          9.541954  \n",
            "6          9.523350  \n",
            "7          9.520245  \n",
            "8          9.516525  \n",
            "9          9.512779  \n",
            "\n",
            "Buku-buku yang sudah di-rating oleh User-ID 243360 (untuk perbandingan):\n",
            "                                               Book-Title       Book-Author  \\\n",
            "340687  The Brewmaster's Table : Discovering the Pleas...    Garrett Oliver   \n",
            "340690  Fast Food Nation: The Dark Side of the All-Ame...    Eric Schlosser   \n",
            "340725                                      Winter's Tale      Mark Helprin   \n",
            "340741  The Food Revolution: How Your Diet Can Help Sa...      John Robbins   \n",
            "340726                                  WLD ACCORDNG GARP       John Irving   \n",
            "340723                  ANNE FRANK: DIARY OF A YOUNG GIRL        Anne Frank   \n",
            "340714                                          Mythology    Edith Hamilton   \n",
            "340693      Fried Green Tomatoes at the Whistle Stop Cafe      Fannie Flagg   \n",
            "340710                             Smilla's Sense of Snow        Peter Hoeg   \n",
            "340721                                             Bitten  Kelley Armstrong   \n",
            "\n",
            "        rating  \n",
            "340687     9.0  \n",
            "340690     9.0  \n",
            "340725     9.0  \n",
            "340741     9.0  \n",
            "340726     9.0  \n",
            "340723     9.0  \n",
            "340714     9.0  \n",
            "340693     8.0  \n",
            "340710     8.0  \n",
            "340721     8.0  \n"
          ]
        }
      ]
    },
    {
      "cell_type": "markdown",
      "source": [
        "- Untuk User-ID: 243360 (sebagai contoh pengguna), model memprediksi rating untuk buku-buku yang belum di-rating oleh pengguna tersebut. Top 10 rekomendasi buku memiliki predicted rating yang tinggi, berkisar antara 9.5 hingga 10.3. Sebagai perbandingan, buku-buku yang sudah di-rating oleh pengguna ini memiliki rating aktual 8.0 hingga 9.0.\n",
        "- Insight: Hasil ini menunjukkan bahwa model berhasil menghasilkan rekomendasi buku dengan predicted rating yang tinggi, konsisten dengan kecenderungan pengguna yang suka memberikan rating tinggi pada buku yang sudah dibacanya. Rekomendasi ini bersifat personal dan berpotensi meningkatkan kepuasan pengguna dengan menawarkan buku-buku baru yang sesuai dengan selera mereka."
      ],
      "metadata": {
        "id": "rKxqNfeGTmQM"
      }
    }
  ]
}